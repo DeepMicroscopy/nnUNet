{
 "cells": [
  {
   "cell_type": "markdown",
   "id": "f8840c83-f74e-4990-ae16-4e98c368d3f5",
   "metadata": {},
   "source": [
    "# Code and updates for existing code to make xml's for whole slide inference masks"
   ]
  },
  {
   "cell_type": "markdown",
   "id": "5b611a43-cd4a-4793-8dd3-3dbcbcf715b0",
   "metadata": {},
   "source": [
    "## Overview\n",
    "- I improved the cv2_polygonize function\n",
    "    - easy handling if processing spacing and saving output correctly to wsi spacing\n",
    "    - allow to simplify polygons\n",
    "    - correct removel of holes, without filling, allowing to keep annotations WITHIN holes\n",
    "\n",
    "- Improved convert_polygons_to_annotations\n",
    "    - The one currenctly on whole slide data tries to set class properties via kwargs into the class init, but this is not possible. Probably somthing that was not tested after before pushing\n",
    "    \n",
    "- Improved the main function\n",
    "    - bringing averything together\n",
    "    - file naming\n",
    "    - overwrite\n",
    "    - return things for debugging\n",
    "    - simpligy\n",
    "    - union\n",
    "    - processing_spacing"
   ]
  },
  {
   "cell_type": "code",
   "execution_count": 1,
   "id": "118e4574-fe8e-4ec0-926f-c0a752f2fb20",
   "metadata": {},
   "outputs": [],
   "source": [
    "from pathlib import Path\n",
    "from xmlrpc.client import boolean\n",
    "# import click\n",
    "from shapely import geometry\n",
    "from shapely.ops import unary_union\n",
    "from wholeslidedata.interoperability.asap.annotationwriter import write_asap_annotation\n",
    "from wholeslidedata.annotation.types import Annotation\n",
    "# from wholeslidedata.annotation.utils import cv2_polygonize\n",
    "from wholeslidedata.image.wholeslideimage import WholeSlideImage\n",
    "from wholeslidedata.annotation.labels import Label\n",
    "from shapely.geometry import Polygon, MultiPolygon\n",
    "from tqdm import tqdm\n",
    "from scipy.ndimage import binary_erosion, binary_dilation, binary_fill_holes\n",
    "import matplotlib.pyplot as plt\n",
    "import numpy as np\n",
    "import cv2\n",
    "import time\n",
    "from wholeslidedata.annotation.utils import write_json_annotations"
   ]
  },
  {
   "cell_type": "code",
   "execution_count": 2,
   "id": "5ba08ef4-301d-46ff-95e1-e6a3e8ab4a3f",
   "metadata": {},
   "outputs": [],
   "source": [
    "import os\n",
    "\n",
    "current_os = \"w\" if os.name == \"nt\" else \"l\"\n",
    "other_os = \"l\" if current_os == \"w\" else \"w\"\n",
    "current_os\n",
    "\n",
    "def convert_path(path, to=current_os):\n",
    "    if to in [\"w\", \"win\", \"windows\"]:\n",
    "        path = path.replace(\"/mnt/pa_cpg\", \"Y:\")\n",
    "        path = path.replace(\"/data/pathology\", \"Z:\")\n",
    "        path = path.replace(\"/mnt/pa_cpgarchive1\", \"W:\")\n",
    "        path = path.replace(\"/mnt/pa_cpgarchive2\", \"X:\")\n",
    "        path = path.replace(\"/\", \"\\\\\")\n",
    "    if to in [\"u\", \"unix\", \"l\", \"linux\"]:\n",
    "        path = path.replace(\"Y:\", \"/mnt/pa_cpg\")\n",
    "        path = path.replace(\"Z:\", \"/data/pathology\")\n",
    "        path = path.replace(\"W:\", \"/mnt/pa_cpgarchive1\")\n",
    "        path = path.replace(\"X:\", \"/mnt/pa_cpgarchive2\")\n",
    "        path = path.replace(\"\\\\\", \"/\")\n",
    "    return path"
   ]
  },
  {
   "cell_type": "markdown",
   "id": "e896b4a9-954e-40c3-9042-c390f2863f0a",
   "metadata": {
    "tags": []
   },
   "source": [
    "# NEW cv2_polygonize"
   ]
  },
  {
   "cell_type": "markdown",
   "id": "c0d5a35f-3557-48cc-837c-df9b31d34968",
   "metadata": {
    "tags": []
   },
   "source": [
    "### FINAL POLYGONIZE FUNCTION\n",
    "This makes use of hierarchy via cv.RETR_CCOMP, which allows to separate holes from outer edges. The previous fill_holes approach failed to recognise annotations within a hole of an annotation of the same class. for example, tumor surrounded by stroma, surrounded by tumor\n",
    "\n",
    "for this example we only need 3 polygons is we let whole slide data know the label sampler (i believe) needs to SORT (think its called 'sorters') based on area. In the example above, the polygons we would need are the outer tumor's outer edge, the stroma outer edge and the inner tumor outer edge. Using the previous fill_holes approach we would only keep the outer outer tumor and the outer stroma. Without fill_holes we would have the outer and inner edge of the outer tumor, the outer and inner edge if the stroma and the outer edge of the inner tumor --> 5 paths, while we only need 3. Using the new approach we remove holes (inner edges) while keeping outer edges. "
   ]
  },
  {
   "cell_type": "code",
   "execution_count": 3,
   "id": "189f0022-5d3a-4563-87e4-29d7cdc6b4bb",
   "metadata": {},
   "outputs": [],
   "source": [
    "def polygon_value_and_index_to_outer_inner(value, index, hierarchies_dict):\n",
    "    hierarchy = hierarchies_dict[value][index]\n",
    "    return 'outer' if hierarchy[3]==-1 else 'inner'"
   ]
  },
  {
   "cell_type": "code",
   "execution_count": 4,
   "id": "6342b1eb-9cc5-4668-ad13-f9a6d463eefb",
   "metadata": {},
   "outputs": [],
   "source": [
    "def polygons_dict_to_outer_polygons_dict(polygons_dict, hierarchies_dict, inv_label_map=None):\n",
    "    polygons_outer_dict = {}\n",
    "    for value, polygons in polygons_dict.items():\n",
    "        # if isinstance(polygons, type(None)):\n",
    "        #     polygons_outer_dict[value] = None\n",
    "        polygons_outer = [polygon for polygon_idx, polygon in enumerate(polygons) \\\n",
    "                          if polygon_value_and_index_to_outer_inner(value, polygon_idx, hierarchies_dict) == 'outer']\n",
    "        label_name = f'class value {value}'\n",
    "        if inv_label_map:\n",
    "            label_name=inv_label_map[value]\n",
    "        print(f'\\t\\t{label_name}: \\n\\t\\t\\tfrom {len(polygons)} polygons, {len(polygons_outer)} were outer, {len(polygons) - len(polygons_outer)} holes were removed')\n",
    "        polygons_outer_dict[value] = polygons_outer\n",
    "    return polygons_outer_dict"
   ]
  },
  {
   "cell_type": "code",
   "execution_count": 5,
   "id": "02cd3a31-4df0-4098-81bd-0d6243815494",
   "metadata": {},
   "outputs": [],
   "source": [
    "def cv2_polygonize_with_hierarchy(\n",
    "    mask, dilation_iterations=0, erose_iterations=0, exclude_holes=True, values=None, inv_label_map=None\n",
    "):\n",
    "    # mask=mask+1 # +1 so the background class is also precicted correctly\n",
    "    if values is None:\n",
    "        values = np.unique(mask)\n",
    "\n",
    "    all_polygons = {}\n",
    "    all_hierarchies = {}\n",
    "\n",
    "    for value in values:\n",
    "        print(f'\\t\\tprocessing value {value}{f\", {inv_label_map[value]}\" if inv_label_map else \"\"}')\n",
    "        \n",
    "        tmp_mask = (mask == value).astype(np.uint8) # improved here, allowing to extraxt background polygons (if you dont want background, exclude its value from 'values' input)\n",
    "\n",
    "        if dilation_iterations > 0:\n",
    "            tmp_mask = binary_dilation(tmp_mask, iterations=dilation_iterations).astype(\n",
    "                np.uint8\n",
    "            )\n",
    "        if erose_iterations > 0:\n",
    "            tmp_mask = binary_erosion(tmp_mask, iterations=erose_iterations).astype(\n",
    "                np.uint8\n",
    "            )\n",
    "\n",
    "        tmp_mask = np.pad(\n",
    "            array=tmp_mask, pad_width=1, mode=\"constant\", constant_values=0\n",
    "        )\n",
    "\n",
    "        polygons, hierarchies = cv2.findContours(\n",
    "            tmp_mask.astype(np.uint8), cv2.RETR_CCOMP, cv2.CHAIN_APPROX_NONE, offset=(-1, -1) #cv2.RETR_CCOMP retuns hierarchy with outer/hole inforamtion\n",
    "        )\n",
    "        \n",
    "        \n",
    "        if len(polygons)==0:\n",
    "            all_polygons[value] = []\n",
    "            all_hierarchies[value] = []\n",
    "            continue\n",
    "        \n",
    "        # remove instances with <3 coordinates\n",
    "        filtered_polygonsand_hierarchies = [(np.array(polygon[:, 0, :]), hierarchy)\n",
    "                for polygon, hierarchy in zip(polygons, hierarchies[0])\n",
    "                if len(polygon) >= 3]\n",
    "        if len(filtered_polygonsand_hierarchies) == 0:\n",
    "            all_polygons[value] = []\n",
    "            all_hierarchies[value] = []\n",
    "            continue\n",
    "        polygons, hierarchies = zip(*filtered_polygonsand_hierarchies)\n",
    "        \n",
    "        all_polygons[value] = polygons \n",
    "        all_hierarchies[value] = hierarchies\n",
    "        \n",
    "    \n",
    "    if exclude_holes:\n",
    "        print('\\tRemoving hole polygons')\n",
    "        all_polygons = polygons_dict_to_outer_polygons_dict(all_polygons, all_hierarchies, inv_label_map)\n",
    "    \n",
    "    return all_polygons"
   ]
  },
  {
   "cell_type": "markdown",
   "id": "1c38605a-961f-42ea-92ac-2abdb69c2dd2",
   "metadata": {
    "tags": []
   },
   "source": [
    "# Adjusted current convert_polygons_to_annotations\n",
    "adjusted for kwargs. This has changed but was not updated correctly"
   ]
  },
  {
   "cell_type": "code",
   "execution_count": 6,
   "id": "ac2db697-7f07-45d5-9202-31990cc78f42",
   "metadata": {},
   "outputs": [],
   "source": [
    "def convert_polygons_to_annotations(polygons, inv_label_map, color_map):\n",
    "    annotation_structures = []\n",
    "    index = 0\n",
    "    for value, polys in polygons.items():\n",
    "        for polygon in polys:\n",
    "            p = geometry.Polygon(polygon).buffer(0)\n",
    "            label = Label(\n",
    "                name=inv_label_map[value],\n",
    "                value=value,\n",
    "                color=color_map[inv_label_map[value]]\n",
    "            )\n",
    "            if isinstance(p, geometry.MultiPolygon):\n",
    "                for q in list(p):\n",
    "                    annotation_structure = dict(\n",
    "                        index=index,\n",
    "                        # type=\"polygon\",\n",
    "                        label=label.todict(),\n",
    "                        coordinates=q.exterior.coords,\n",
    "                        # holes=[],\n",
    "                    )\n",
    "                    annotation_structures.append(annotation_structure)\n",
    "                    index += 1\n",
    "            else:\n",
    "                annotation_structure = dict(\n",
    "                    index=index,\n",
    "                    # type=\"polygon\",\n",
    "                    label=label.todict(),\n",
    "                    coordinates=p.exterior.coords,\n",
    "                    # holes=[],\n",
    "                )\n",
    "                annotation_structures.append(annotation_structure)\n",
    "                index += 1\n",
    "\n",
    "    annotations = []\n",
    "    for annotation_structure in annotation_structures:\n",
    "        if len(annotation_structure[\"coordinates\"]) >= 3:\n",
    "            try:\n",
    "                annotation = Annotation.create(**annotation_structure)\n",
    "            except Exception as e:\n",
    "                print(annotation_structure[\"coordinates\"])\n",
    "                raise e\n",
    "            annotations.append(annotation)\n",
    "    return annotations"
   ]
  },
  {
   "cell_type": "markdown",
   "id": "945dcd17-2e06-4495-a954-1339dfd885bb",
   "metadata": {
    "tags": []
   },
   "source": [
    "# MAIN function"
   ]
  },
  {
   "cell_type": "code",
   "execution_count": 7,
   "id": "912b41f8-17e8-46fa-8956-395176e557ac",
   "metadata": {},
   "outputs": [],
   "source": [
    "# def main_new(\n",
    "#     mask_path: Path,\n",
    "#     output_folder: Path,\n",
    "#     processing_spacing: float,\n",
    "#     label_mapping: tuple = (),\n",
    "#     color_mapping: tuple = (),\n",
    "#     dilation_iterations: int = 0,\n",
    "#     erose_iterations: int = 0,\n",
    "#     exclude_holes: bool = True,\n",
    "#     mask_wsi_spacing_ratio: float = 1,\n",
    "#     simplify=None,\n",
    "#     union=False,\n",
    "#     filename_tail=\"\",\n",
    "#     verbose=True,\n",
    "#     overwrite=False,\n",
    "#     ret=False\n",
    "# ):\n",
    "#     inv_label_map = {value:name.lower() for value, name in label_mapping.items()}\n",
    "#     color_map = {name.lower():color for name, color in color_mapping.items()}\n",
    "    \n",
    "#     if not mask_path.exists():\n",
    "#         raise ValueError(f\"mask path {mask_path} does not exists\")\n",
    "\n",
    "#     if mask_path.is_dir():\n",
    "#         mask_paths = list(mask_path.glob('*.tif'))\n",
    "#     else:\n",
    "#         mask_paths = [mask_path]\n",
    "    \n",
    "    \n",
    "#     for mask_path in tqdm(mask_paths):\n",
    "#         print('processing', mask_path)\n",
    "#         output_path = output_folder / (mask_path.stem + filename_tail + \".xml\")\n",
    "#         if not overwrite and output_path.exists():\n",
    "#             print(f'Output path already exist: {output_path}')\n",
    "#             if ret:\n",
    "#                 print('Returning None, None')\n",
    "#                 return None, None\n",
    "#             return\n",
    "#         if verbose:\n",
    "#             print('\\tLoading files')\n",
    "#         mask = WholeSlideImage(mask_path, backend=\"asap\")\n",
    "#         mask_slide = mask.get_slide(processing_spacing).squeeze()\n",
    "#         ratio = mask.get_downsampling_from_spacing(processing_spacing) * mask_wsi_spacing_ratio\n",
    "        \n",
    "#         if verbose:\n",
    "#             print('\\tMaking polygons from mask')\n",
    "#         polygons = cv2_polygonize_with_hierarchy(\n",
    "#             mask_slide,\n",
    "#             dilation_iterations=dilation_iterations,\n",
    "#             erose_iterations=erose_iterations,\n",
    "#             exclude_holes=exclude_holes,\n",
    "#             values=list(inv_label_map),\n",
    "#             inv_label_map=inv_label_map\n",
    "#         )\n",
    "        \n",
    "# #         return polygons\n",
    "# # ######\n",
    "#         for value, polys in polygons.items():\n",
    "#             for poly_idx, poly in enumerate(polys):\n",
    "#                 polygons[value][poly_idx] = geometry.Polygon(poly)\n",
    "#         if simplify:\n",
    "#             polygons = {k: [v.simplify(simplify) for v in v_list] for k, v_list in polygons.items()}\n",
    "#         if union:\n",
    "#             polygons = {k:unary_union(v) if k!=0 else v for k, v in polygons.items()}\n",
    "    \n",
    "#         if verbose:\n",
    "#             print('\\tMaking annotations from polygons')\n",
    "#         annotations = convert_polygons_to_annotations(\n",
    "#             polygons=polygons, inv_label_map=inv_label_map, color_map=color_map\n",
    "#         )\n",
    "#         # return annotations\n",
    "            \n",
    "# ######\n",
    "#         if verbose:\n",
    "#             print('\\tWriting XML')\n",
    "#         print('\\t\\tRatio', ratio)\n",
    "#         print('\\t\\tWriting to:', output_path)\n",
    "#         write_asap_annotation(annotations=annotations, output_path=output_path, color_map=color_map, scaling=ratio)\n",
    "#         if ret:\n",
    "#             return polygons, annotations"
   ]
  },
  {
   "cell_type": "code",
   "execution_count": 8,
   "id": "eea63184-ab69-479f-8f5d-9300bd7dfd82",
   "metadata": {},
   "outputs": [],
   "source": [
    "from typing import List, Optional\n",
    "def convert_annotations_to_json(annotations: List[Annotation], scaling: Optional[float] = None):\n",
    "    output = []\n",
    "    for annotation in annotations:\n",
    "        item = annotation.todict()\n",
    "        if scaling is not None:\n",
    "            new_coordinates = [[coord[0] * scaling, coord[1] * scaling] for coord in item['coordinates']]\n",
    "            item['coordinates'] = new_coordinates\n",
    "        output.append(item)\n",
    "    return output"
   ]
  },
  {
   "cell_type": "code",
   "execution_count": 9,
   "id": "3f814fd2-c607-4e12-84c5-592a3d863046",
   "metadata": {},
   "outputs": [],
   "source": [
    "def main_new(\n",
    "    mask_path: Path,\n",
    "    output_folder: Path,\n",
    "    processing_spacing: float,\n",
    "    label_mapping: tuple = (),\n",
    "    color_mapping: tuple = (),\n",
    "    dilation_iterations: int = 0, # dont use\n",
    "    erose_iterations: int = 0,  # dont use\n",
    "    exclude_holes: bool = True, # shoud be true for whole slide data \n",
    "    mask_wsi_spacing_ratio: float = 1,\n",
    "    simplify=None,\n",
    "    union=False,\n",
    "    filename_tail=\"\",\n",
    "    verbose=True,\n",
    "    write_additional_json=False,\n",
    "    overwrite=False,\n",
    "    ret=False # debugging\n",
    "):\n",
    "    inv_label_map = {value:name.lower() for value, name in label_mapping.items()}\n",
    "    color_map = {name.lower():color for name, color in color_mapping.items()}\n",
    "    \n",
    "    if not mask_path.exists():\n",
    "        raise ValueError(f\"Mask path {mask_path} does not exists\")\n",
    "\n",
    "    if mask_path.is_dir():\n",
    "        mask_paths = list(mask_path.glob('*.tif'))\n",
    "    else:\n",
    "        mask_paths = [mask_path]\n",
    "    \n",
    "    \n",
    "    for mask_path in tqdm(mask_paths):\n",
    "        print('processing', mask_path)\n",
    "        output_path = output_folder / (mask_path.stem + filename_tail)\n",
    "        \n",
    "        output_path_xml = output_path.with_suffix('.xml')\n",
    "        output_path_json = output_path.with_suffix('.json')\n",
    "        \n",
    "        output_path_xml_exists = output_path_xml.exists()\n",
    "        output_path_json_exists = output_path_json.exists()\n",
    "        \n",
    "        if not overwrite and output_path_xml_exists and (output_path_json_exists if write_additional_json else True):\n",
    "            print(f'Output file(s) already exist: {output_path_xml} (and optionally its .json)')\n",
    "            if ret:\n",
    "                print('Returning None, None')\n",
    "                return None, None\n",
    "            return\n",
    "        \n",
    "        if verbose:\n",
    "            print('\\tLoading files')\n",
    "        mask = WholeSlideImage(mask_path, backend=\"asap\")\n",
    "        mask_slide = mask.get_slide(processing_spacing).squeeze()\n",
    "        ratio = mask.get_downsampling_from_spacing(processing_spacing) * mask_wsi_spacing_ratio\n",
    "        \n",
    "        if verbose:\n",
    "            print('\\tMaking polygons from mask')\n",
    "        polygons = cv2_polygonize_with_hierarchy(\n",
    "            mask_slide,\n",
    "            dilation_iterations=dilation_iterations,\n",
    "            erose_iterations=erose_iterations,\n",
    "            exclude_holes=exclude_holes,\n",
    "            values=list(inv_label_map),\n",
    "            inv_label_map=inv_label_map\n",
    "        )\n",
    "        \n",
    "#         return polygons\n",
    "# ######\n",
    "        for value, polys in polygons.items():\n",
    "            for poly_idx, poly in enumerate(polys):\n",
    "                polygons[value][poly_idx] = geometry.Polygon(poly)\n",
    "        if simplify:\n",
    "            polygons = {k: [v.simplify(simplify) for v in v_list] for k, v_list in polygons.items()}\n",
    "        if union:\n",
    "            polygons = {k:unary_union(v) if k!=0 else v for k, v in polygons.items()}\n",
    "    \n",
    "        if verbose:\n",
    "            print('\\tMaking annotations from polygons')\n",
    "        annotations = convert_polygons_to_annotations(\n",
    "            polygons=polygons, inv_label_map=inv_label_map, color_map=color_map\n",
    "        )\n",
    "        # return annotations\n",
    "            \n",
    "######\n",
    "        if verbose:\n",
    "            print('\\tWriting XML')\n",
    "            print('\\t\\tRatio', ratio)\n",
    "            print('\\t\\tWriting to:', output_path_xml)\n",
    "        write_asap_annotation(annotations=annotations, output_path=output_path_xml, color_map=color_map, scaling=ratio)\n",
    "        \n",
    "        if write_additional_json:\n",
    "            if verbose:\n",
    "                print('\\tWriting JSON')\n",
    "                print('\\t\\tWriting to:', output_path_json)\n",
    "            annotations_json = convert_annotations_to_json(annotations, scaling=ratio)\n",
    "            write_json_annotations(output_path_json, annotations_json)\n",
    "            \n",
    "        if ret:\n",
    "            print('[Ret == True] --> Returning polygons, annotations')\n",
    "            return polygons, annotations"
   ]
  },
  {
   "cell_type": "markdown",
   "id": "5ac8d8fc-f116-446a-877e-0f61f5e269c1",
   "metadata": {
    "tags": []
   },
   "source": [
    "# PREPARATION"
   ]
  },
  {
   "cell_type": "markdown",
   "id": "f83e6ddc-8666-43fd-b70d-8677cf07efeb",
   "metadata": {},
   "source": [
    "## The masks"
   ]
  },
  {
   "cell_type": "code",
   "execution_count": 10,
   "id": "6aa11214-b633-479f-b2ed-69e5901ee2b7",
   "metadata": {},
   "outputs": [],
   "source": [
    "masks_folder = convert_path(r'Z:\\projects\\pathology-lung-TIL\\nnUNet_raw_data_base\\inference_results\\Task020_WSI_on_train_batch_1_3')\n",
    "mask_paths = [Path(os.path.join(masks_folder, file_name)) for file_name in os.listdir(masks_folder) if file_name.endswith('nnunet.tif')]\n",
    "mask_path = mask_paths[0]"
   ]
  },
  {
   "cell_type": "markdown",
   "id": "3add0059-8006-4f52-b724-344ecc72a58e",
   "metadata": {},
   "source": [
    "## Labels"
   ]
  },
  {
   "cell_type": "code",
   "execution_count": 11,
   "id": "484d89a9-b5c8-4e51-8190-3adc30803b77",
   "metadata": {},
   "outputs": [],
   "source": [
    "labels={'Background':0,\n",
    "        'Tumor': 1, \n",
    "        'Stroma': 3, \n",
    "        'Inflammation': 4, \n",
    "        'Healthy parenchyma': 5, \n",
    "        'Fatty tissue': 6, \n",
    "        'Necrotic tissue': 7, \n",
    "        'Erytrocytes': 8, \n",
    "        'Healthy epithelium': 9, \n",
    "        'Mucus': 10, \n",
    "        'Cartilage': 11,\n",
    "        'Macrophages': 12,\n",
    "        'Other': 13,\n",
    "       }\n",
    "label_mapping = {v:k for k,v in labels.items()}"
   ]
  },
  {
   "cell_type": "markdown",
   "id": "512f6264-2432-4042-89fc-71ff024e7725",
   "metadata": {},
   "source": [
    "## Plot stuff"
   ]
  },
  {
   "cell_type": "code",
   "execution_count": 12,
   "id": "450e0a1a-e70c-45d8-bda8-e99bbffa82d8",
   "metadata": {},
   "outputs": [
    {
     "name": "stdout",
     "output_type": "stream",
     "text": [
      "{'Background': '#000000', 'Tumor': '#00E0F9', 'Stroma': '#AEF900', 'Inflammation': '#F96400', 'Healthy parenchyma': '#F9007D', 'Fatty tissue': '#9500F9', 'Necrotic tissue': '#0000CE', 'Erytrocytes': '#00B9CE', 'Healthy epithelium': '#00CE29', 'Mucus': '#8FCE00', 'Cartilage': '#CE5200', 'Macrophages': '#CE0067', 'Other': '#7C00CE'}\n"
     ]
    },
    {
     "data": {
      "image/png": "[encoded data removed]",
      "text/plain": [
       "<Figure size 576x432 with 1 Axes>"
      ]
     },
     "metadata": {
      "needs_background": "light"
     },
     "output_type": "display_data"
    }
   ],
   "source": [
    "original_colormap = [ [0, 0, 0, 255], [ 0, 224, 249, 255 ], [ 0, 249, 50, 255 ], [ 174, 249, 0, 255 ], [ 249, 100, 0, 255 ], [ 249, 0, 125, 255 ], [ 149, 0, 249, 255 ], [ 0, 0, 206, 255 ], [ 0, 185, 206, 255 ], [ 0, 206, 41, 255 ], [ 143, 206, 0, 255 ], [ 206, 82, 0, 255 ], [ 206, 0, 103, 255 ], [ 124, 0, 206, 255 ], [ 0, 0, 162, 255 ], [ 0, 145, 162, 255 ], [ 0, 162, 32, 255 ], [ 114, 162, 0, 255 ], [ 162, 65, 0, 255 ], [ 162, 0, 81, 255 ], [ 97, 0, 162, 255 ], [ 0, 0, 119, 255 ], [ 0, 107, 119, 255 ], [ 0, 119, 23, 255 ], [ 83, 119, 0, 255 ], [ 119, 47, 0, 255 ], [ 119, 0, 59, 255 ], [ 71, 0, 119, 255 ], [ 100, 100, 249, 255 ], [ 100, 234, 249, 255 ], [ 100, 249, 129, 255 ], [ 204, 249, 100, 255 ], [ 249, 159, 100, 255 ], [ 249, 100, 174, 255 ], [ 189, 100, 249, 255 ], [ 82, 82, 206, 255 ], [ 82, 193, 206, 255 ], [ 82, 206, 107, 255 ], [ 168, 206, 82, 255 ], [ 206, 131, 82, 255 ], [ 206, 82, 143, 255 ], [ 156, 82, 206, 255 ], [ 65, 65, 162, 255 ], [ 65, 152, 162, 255 ], [ 65, 162, 84, 255 ], [ 132, 162, 65, 255 ], [ 162, 104, 65, 255 ], [ 162, 65, 114, 255 ], [ 123, 65, 162, 255 ], [ 47, 47, 119, 255 ], [ 47, 112, 119, 255 ], [ 47, 119, 61, 255 ], [ 97, 119, 47, 255 ], [ 119, 76, 47, 255 ], [ 119, 47, 83, 255 ], [ 90, 47, 119, 255 ], [ 174, 174, 249, 255 ], [ 174, 242, 249, 255 ], [ 174, 249, 189, 255 ], [ 227, 249, 174, 255 ], [ 249, 204, 174, 255 ], [ 249, 174, 212, 255 ], [ 219, 174, 249, 255 ], [ 143, 143, 206, 255 ], [ 143, 199, 206, 255 ], [ 143, 206, 156, 255 ], [ 187, 206, 143, 255 ], [ 206, 168, 143, 255 ], [ 206, 143, 175, 255 ], [ 181, 143, 206, 255 ], [ 114, 114, 162, 255 ], [ 114, 157, 162, 255 ], [ 114, 162, 123, 255 ], [ 147, 162, 114, 255 ], [ 162, 132, 114, 255 ], [ 162, 114, 137, 255 ], [ 142, 114, 162, 255 ], [ 83, 83, 119, 255 ], [ 83, 115, 119, 255 ], [ 83, 119, 90, 255 ], [ 108, 119, 83, 255 ], [ 119, 97, 83, 255 ], [ 119, 83, 101, 255 ], [ 104, 83, 119, 255 ], [ 224, 224, 249, 255 ], [ 224, 247, 249, 255 ], [ 224, 249, 229, 255 ], [ 242, 249, 224, 255 ], [ 249, 234, 224, 255 ], [ 249, 224, 237, 255 ], [ 239, 224, 249, 255 ], [ 185, 185, 206, 255 ], [ 185, 204, 206, 255 ], [ 185, 206, 189, 255 ], [ 199, 206, 185, 255 ], [ 206, 193, 185, 255 ], [ 206, 185, 195, 255 ], [ 197, 185, 206, 255 ], [ 145, 145, 162, 255 ], [ 145, 160, 162, 255 ], [ 145, 162, 149, 255 ], [ 157, 162, 145, 255 ], [ 162, 152, 145, 255 ], [ 162, 145, 153, 255 ], [ 155, 145, 162, 255 ], [ 107, 107, 119, 255 ], [ 107, 118, 119, 255 ], [ 107, 119, 109, 255 ], [ 115, 119, 107, 255 ], [ 119, 112, 107, 255 ], [ 119, 107, 113, 255 ], [ 114, 107, 119, 255 ], [ 0, 0, 249, 255 ], [ 0, 224, 249, 255 ], [ 0, 249, 50, 255 ], [ 174, 249, 0, 255 ], [ 249, 100, 0, 255 ], [ 249, 0, 125, 255 ], [ 149, 0, 249, 255 ], [ 0, 0, 206, 255 ], [ 0, 185, 206, 255 ], [ 0, 206, 41, 255 ], [ 143, 206, 0, 255 ], [ 206, 82, 0, 255 ], [ 206, 0, 103, 255 ], [ 124, 0, 206, 255 ], [ 0, 0, 162, 255 ], [ 0, 145, 162, 255 ], [ 0, 162, 32, 255 ], [ 114, 162, 0, 255 ], [ 162, 65, 0, 255 ], [ 162, 0, 81, 255 ], [ 97, 0, 162, 255 ], [ 0, 0, 119, 255 ], [ 0, 107, 119, 255 ], [ 0, 119, 23, 255 ], [ 83, 119, 0, 255 ], [ 119, 47, 0, 255 ], [ 119, 0, 59, 255 ], [ 71, 0, 119, 255 ], [ 100, 100, 249, 255 ], [ 100, 234, 249, 255 ], [ 100, 249, 129, 255 ], [ 204, 249, 100, 255 ], [ 249, 159, 100, 255 ], [ 249, 100, 174, 255 ], [ 189, 100, 249, 255 ], [ 82, 82, 206, 255 ], [ 82, 193, 206, 255 ], [ 82, 206, 107, 255 ], [ 168, 206, 82, 255 ], [ 206, 131, 82, 255 ], [ 206, 82, 143, 255 ], [ 156, 82, 206, 255 ], [ 65, 65, 162, 255 ], [ 65, 152, 162, 255 ], [ 65, 162, 84, 255 ], [ 132, 162, 65, 255 ], [ 162, 104, 65, 255 ], [ 162, 65, 114, 255 ], [ 123, 65, 162, 255 ], [ 47, 47, 119, 255 ], [ 47, 112, 119, 255 ], [ 47, 119, 61, 255 ], [ 97, 119, 47, 255 ], [ 119, 76, 47, 255 ], [ 119, 47, 83, 255 ], [ 90, 47, 119, 255 ], [ 174, 174, 249, 255 ], [ 174, 242, 249, 255 ], [ 174, 249, 189, 255 ], [ 227, 249, 174, 255 ], [ 249, 204, 174, 255 ], [ 249, 174, 212, 255 ], [ 219, 174, 249, 255 ], [ 143, 143, 206, 255 ], [ 143, 199, 206, 255 ], [ 143, 206, 156, 255 ], [ 187, 206, 143, 255 ], [ 206, 168, 143, 255 ], [ 206, 143, 175, 255 ], [ 181, 143, 206, 255 ], [ 114, 114, 162, 255 ], [ 114, 157, 162, 255 ], [ 114, 162, 123, 255 ], [ 147, 162, 114, 255 ], [ 162, 132, 114, 255 ], [ 162, 114, 137, 255 ], [ 142, 114, 162, 255 ], [ 83, 83, 119, 255 ], [ 83, 115, 119, 255 ], [ 83, 119, 90, 255 ], [ 108, 119, 83, 255 ], [ 119, 97, 83, 255 ], [ 119, 83, 101, 255 ], [ 104, 83, 119, 255 ], [ 224, 224, 249, 255 ], [ 224, 247, 249, 255 ], [ 224, 249, 229, 255 ], [ 242, 249, 224, 255 ], [ 249, 234, 224, 255 ], [ 249, 224, 237, 255 ], [ 239, 224, 249, 255 ], [ 185, 185, 206, 255 ], [ 185, 204, 206, 255 ], [ 185, 206, 189, 255 ], [ 199, 206, 185, 255 ], [ 206, 193, 185, 255 ], [ 206, 185, 195, 255 ], [ 197, 185, 206, 255 ], [ 145, 145, 162, 255 ], [ 145, 160, 162, 255 ], [ 145, 162, 149, 255 ], [ 157, 162, 145, 255 ], [ 162, 152, 145, 255 ], [ 162, 145, 153, 255 ], [ 155, 145, 162, 255 ], [ 107, 107, 119, 255 ], [ 107, 118, 119, 255 ], [ 107, 119, 109, 255 ], [ 115, 119, 107, 255 ], [ 119, 112, 107, 255 ], [ 119, 107, 113, 255 ], [ 114, 107, 119, 255 ], [ 0, 0, 249, 255 ], [ 0, 224, 249, 255 ], [ 0, 249, 50, 255 ], [ 174, 249, 0, 255 ], [ 249, 100, 0, 255 ], [ 249, 0, 125, 255 ], [ 149, 0, 249, 255 ], [ 0, 0, 206, 255 ], [ 0, 185, 206, 255 ], [ 0, 206, 41, 255 ], [ 143, 206, 0, 255 ], [ 206, 82, 0, 255 ], [ 206, 0, 103, 255 ], [ 124, 0, 206, 255 ], [ 0, 0, 162, 255 ], [ 0, 145, 162, 255 ], [ 0, 162, 32, 255 ], [ 114, 162, 0, 255 ], [ 162, 65, 0, 255 ], [ 162, 0, 81, 255 ], [ 97, 0, 162, 255 ], [ 0, 0, 119, 255 ], [ 0, 107, 119, 255 ], [ 0, 119, 23, 255 ], [ 83, 119, 0, 255 ], [ 119, 47, 0, 255 ], [ 119, 0, 59, 255 ], [ 71, 0, 119, 255 ], [ 100, 100, 249, 255 ], [ 100, 234, 249, 255 ], [ 100, 249, 129, 255 ], [ 0, 249, 50, 255 ] ]\n",
    "\n",
    "# Create a dictionary that maps label names to their corresponding hex colors\n",
    "color_mapping = {\n",
    "    label: \"#{:02X}{:02X}{:02X}\".format(*original_colormap[index][0:3])\n",
    "    for label, index in labels.items()\n",
    "}\n",
    "\n",
    "# Print the resulting dictionary\n",
    "print(color_mapping)\n",
    "\n",
    "# Create a simple bar chart to visualize the labels and colors\n",
    "fig, ax = plt.subplots(figsize=(8, 6))\n",
    "\n",
    "for label, color in color_mapping.items():\n",
    "    ax.barh(label, 1, color=color)\n",
    "\n",
    "ax.set_xlabel(\"Color\")\n",
    "ax.set_ylabel(\"Label\")\n",
    "ax.set_title(\"Label Colors\")\n",
    "\n",
    "plt.show()"
   ]
  },
  {
   "cell_type": "markdown",
   "id": "3a389585-00a9-4388-aa16-4b3ef6f6bf57",
   "metadata": {
    "tags": []
   },
   "source": [
    "# TEST RUNS "
   ]
  },
  {
   "cell_type": "markdown",
   "id": "9d932a35-ff54-48a6-beeb-65594cfb230d",
   "metadata": {
    "tags": []
   },
   "source": [
    "## Testing new exclude holes approach"
   ]
  },
  {
   "cell_type": "markdown",
   "id": "bcade70b-3c0f-42ba-ac65-1bcacab25db3",
   "metadata": {
    "tags": []
   },
   "source": [
    "### Settings"
   ]
  },
  {
   "cell_type": "code",
   "execution_count": 13,
   "id": "288ce968-b9f9-4132-9565-20a2a0edd4f4",
   "metadata": {},
   "outputs": [],
   "source": [
    "# spacing = 4\n",
    "dilation_iterations = 0\n",
    "erose_iterations = 0\n",
    "fill_holes = False\n",
    "wsi_spacing = 0.25\n",
    "mask_spacing = 0.5\n",
    "mask_wsi_spacing_ratio = mask_spacing / wsi_spacing"
   ]
  },
  {
   "cell_type": "code",
   "execution_count": 14,
   "id": "4c9acd3f-6cea-430e-9d4d-08b9f5a199b2",
   "metadata": {},
   "outputs": [],
   "source": [
    "# output_folder_exlude_holes = Path(convert_path(r\"Z:\\projects\\pathology-lung-TIL\\data\\self_supervision\\simplify_exclude_holes_tests\"))\n",
    "# os.makedirs(output_folder_exlude_holes, exist_ok=True)"
   ]
  },
  {
   "cell_type": "code",
   "execution_count": 15,
   "id": "10f33ea9-13fb-4d93-8743-f9530e72724d",
   "metadata": {},
   "outputs": [],
   "source": [
    "output_folder_exlude_holes = Path(convert_path(r\"Z:\\projects\\pathology-lung-TIL\\data\\self_supervision\\simplify_exclude_holes_tests_TEST\"))\n",
    "os.makedirs(output_folder_exlude_holes, exist_ok=True)"
   ]
  },
  {
   "cell_type": "code",
   "execution_count": 16,
   "id": "0d206fc3-5e3a-498c-af0e-36f37d921d09",
   "metadata": {},
   "outputs": [
    {
     "name": "stdout",
     "output_type": "stream",
     "text": [
      "[spacing 8, simplify 8, union False, exclude_holes True]\n"
     ]
    },
    {
     "name": "stderr",
     "output_type": "stream",
     "text": [
      "  0%|          | 0/1 [00:00<?, ?it/s]"
     ]
    },
    {
     "name": "stdout",
     "output_type": "stream",
     "text": [
      "processing /data/pathology/projects/pathology-lung-TIL/nnUNet_raw_data_base/inference_results/Task020_WSI_on_train_batch_1_3/LI_S01_P000060_C0001_L01_A15_nnunet.tif\n",
      "Output file(s) already exist: /data/pathology/projects/pathology-lung-TIL/data/self_supervision/simplify_exclude_holes_tests_TEST/LI_S01_P000060_C0001_L01_A15_nnunet_spacing8_simplify8_EXCLUDE_holes.xml (and optionally its .json)\n",
      "Returning None, None\n",
      "Done in 0.01 seconds\n",
      "\n",
      "\n",
      "DONE!!!!!!!!!!!!!!!!!!!!!!!!!!!!!!!!!!!!!!!!!!!!!!!!!!!!!!!!!!!!!\n"
     ]
    },
    {
     "name": "stderr",
     "output_type": "stream",
     "text": [
      "\n"
     ]
    }
   ],
   "source": [
    "import time\n",
    "\n",
    "exclude_holes=True\n",
    "mask_path = mask_paths[0]\n",
    "overwrite = False\n",
    "union=False\n",
    "\n",
    "for simplify in [8]:\n",
    "    for processing_spacing in [8]:\n",
    "        # Record the start time\n",
    "        print(f'[spacing {processing_spacing}, simplify {simplify}, union {union}, exclude_holes {exclude_holes}]')\n",
    "        output_filename = f'_spacing{processing_spacing}_simplify{str(simplify).replace(\".\", \"\")}{\"_union\" if union else \"\"}{\"_EXCLUDE_holes\" if exclude_holes else \"\"}'\n",
    "        # print(output_filename)\n",
    "\n",
    "        start_time = time.time()\n",
    "\n",
    "        # Call the main function\n",
    "        polygons, annotations = main_new(\n",
    "            mask_path=Path(mask_path),\n",
    "            output_folder=Path(str(output_folder_exlude_holes)),\n",
    "            processing_spacing=processing_spacing,\n",
    "            label_mapping=label_mapping,\n",
    "            color_mapping=color_mapping,\n",
    "            dilation_iterations=dilation_iterations,\n",
    "            erose_iterations=erose_iterations,\n",
    "            exclude_holes=exclude_holes, \n",
    "            mask_wsi_spacing_ratio=mask_wsi_spacing_ratio,\n",
    "            simplify=simplify,\n",
    "            union=union,\n",
    "            filename_tail=output_filename,\n",
    "            overwrite=overwrite,\n",
    "            ret=True,\n",
    "        )\n",
    "\n",
    "        # Record the end time\n",
    "        end_time = time.time()\n",
    "\n",
    "        # Calculate the elapsed time\n",
    "        elapsed_time = end_time - start_time\n",
    "\n",
    "        # Print the elapsed time\n",
    "        print(f'Done in {elapsed_time:.2f} seconds\\n\\n')\n",
    "print('DONE!!!!!!!!!!!!!!!!!!!!!!!!!!!!!!!!!!!!!!!!!!!!!!!!!!!!!!!!!!!!!')"
   ]
  },
  {
   "cell_type": "markdown",
   "id": "4ae8e6e6-0dd2-412d-a23c-047b02f83d51",
   "metadata": {},
   "source": [
    "# FULL RUNS"
   ]
  },
  {
   "cell_type": "code",
   "execution_count": 21,
   "id": "8c307f59-410f-42a5-bc31-251dd4c75d8f",
   "metadata": {},
   "outputs": [],
   "source": [
    "mask_path = mask_paths[0]\n",
    "output_parent_folder = Path(convert_path(r\"Z:\\projects\\pathology-lung-TIL\\data\\self_supervision\\batch1_3_xmls\"))\n",
    "\n",
    "processing_spacing = 4\n",
    "wsi_spacing = 0.25\n",
    "mask_spacing = 0.5\n",
    "mask_wsi_spacing_ratio = mask_spacing / wsi_spacing\n",
    "\n",
    "simplify = 8\n",
    "union = False\n",
    "exclude_holes = True\n",
    "\n",
    "dilation_iterations = 0\n",
    "erose_iterations = 0\n",
    "\n",
    "overwrite=False\n",
    "write_additional_json = True"
   ]
  },
  {
   "cell_type": "code",
   "execution_count": 23,
   "id": "9784c43f-a591-45b2-a66d-0b92348e86b0",
   "metadata": {},
   "outputs": [
    {
     "name": "stdout",
     "output_type": "stream",
     "text": [
      "[MASK [1/30]: LI_S01_P000060_C0001_L01_A15_nnunet] \n",
      "spacing 4, simplify 8, union False, exclude_holes True\n"
     ]
    },
    {
     "name": "stderr",
     "output_type": "stream",
     "text": [
      "  0%|          | 0/1 [00:00<?, ?it/s]\n"
     ]
    },
    {
     "name": "stdout",
     "output_type": "stream",
     "text": [
      "processing /data/pathology/projects/pathology-lung-TIL/nnUNet_raw_data_base/inference_results/Task020_WSI_on_train_batch_1_3/LI_S01_P000060_C0001_L01_A15_nnunet.tif\n",
      "Output file(s) already exist: /data/pathology/projects/pathology-lung-TIL/data/self_supervision/batch1_3_xmls/spacing4_simplify8_exclude_holes/LI_S01_P000060_C0001_L01_A15_nnunet_spacing4_simplify8_exclude_holes.xml (and optionally its .json)\n",
      "Done in 0.01 seconds\n",
      "\n",
      "\n",
      "[MASK [2/30]: LI_S01_P000004_C0001_L01_A15_nnunet] \n",
      "spacing 4, simplify 8, union False, exclude_holes True\n"
     ]
    },
    {
     "name": "stderr",
     "output_type": "stream",
     "text": [
      "  0%|          | 0/1 [00:00<?, ?it/s]\n"
     ]
    },
    {
     "name": "stdout",
     "output_type": "stream",
     "text": [
      "processing /data/pathology/projects/pathology-lung-TIL/nnUNet_raw_data_base/inference_results/Task020_WSI_on_train_batch_1_3/LI_S01_P000004_C0001_L01_A15_nnunet.tif\n",
      "Output file(s) already exist: /data/pathology/projects/pathology-lung-TIL/data/self_supervision/batch1_3_xmls/spacing4_simplify8_exclude_holes/LI_S01_P000004_C0001_L01_A15_nnunet_spacing4_simplify8_exclude_holes.xml (and optionally its .json)\n",
      "Done in 0.02 seconds\n",
      "\n",
      "\n",
      "[MASK [3/30]: LI_S01_P000036_C0001_L01_A15_nnunet] \n",
      "spacing 4, simplify 8, union False, exclude_holes True\n"
     ]
    },
    {
     "name": "stderr",
     "output_type": "stream",
     "text": [
      "  0%|          | 0/1 [00:00<?, ?it/s]\n"
     ]
    },
    {
     "name": "stdout",
     "output_type": "stream",
     "text": [
      "processing /data/pathology/projects/pathology-lung-TIL/nnUNet_raw_data_base/inference_results/Task020_WSI_on_train_batch_1_3/LI_S01_P000036_C0001_L01_A15_nnunet.tif\n",
      "Output file(s) already exist: /data/pathology/projects/pathology-lung-TIL/data/self_supervision/batch1_3_xmls/spacing4_simplify8_exclude_holes/LI_S01_P000036_C0001_L01_A15_nnunet_spacing4_simplify8_exclude_holes.xml (and optionally its .json)\n",
      "Done in 0.02 seconds\n",
      "\n",
      "\n",
      "[MASK [4/30]: EX_S09_P000101_C0001_B101_V02_T01_nnunet] \n",
      "spacing 4, simplify 8, union False, exclude_holes True\n"
     ]
    },
    {
     "name": "stderr",
     "output_type": "stream",
     "text": [
      "  0%|          | 0/1 [00:00<?, ?it/s]\n"
     ]
    },
    {
     "name": "stdout",
     "output_type": "stream",
     "text": [
      "processing /data/pathology/projects/pathology-lung-TIL/nnUNet_raw_data_base/inference_results/Task020_WSI_on_train_batch_1_3/EX_S09_P000101_C0001_B101_V02_T01_nnunet.tif\n",
      "Output file(s) already exist: /data/pathology/projects/pathology-lung-TIL/data/self_supervision/batch1_3_xmls/spacing4_simplify8_exclude_holes/EX_S09_P000101_C0001_B101_V02_T01_nnunet_spacing4_simplify8_exclude_holes.xml (and optionally its .json)\n",
      "Done in 0.01 seconds\n",
      "\n",
      "\n",
      "[MASK [5/30]: LI_S01_P000001_C0001_L01_A15_nnunet] \n",
      "spacing 4, simplify 8, union False, exclude_holes True\n"
     ]
    },
    {
     "name": "stderr",
     "output_type": "stream",
     "text": [
      "  0%|          | 0/1 [00:00<?, ?it/s]\n"
     ]
    },
    {
     "name": "stdout",
     "output_type": "stream",
     "text": [
      "processing /data/pathology/projects/pathology-lung-TIL/nnUNet_raw_data_base/inference_results/Task020_WSI_on_train_batch_1_3/LI_S01_P000001_C0001_L01_A15_nnunet.tif\n",
      "Output file(s) already exist: /data/pathology/projects/pathology-lung-TIL/data/self_supervision/batch1_3_xmls/spacing4_simplify8_exclude_holes/LI_S01_P000001_C0001_L01_A15_nnunet_spacing4_simplify8_exclude_holes.xml (and optionally its .json)\n",
      "Done in 0.02 seconds\n",
      "\n",
      "\n",
      "[MASK [6/30]: LI_S01_P000002_C0001_L01_A15_nnunet] \n",
      "spacing 4, simplify 8, union False, exclude_holes True\n"
     ]
    },
    {
     "name": "stderr",
     "output_type": "stream",
     "text": [
      "  0%|          | 0/1 [00:00<?, ?it/s]\n"
     ]
    },
    {
     "name": "stdout",
     "output_type": "stream",
     "text": [
      "processing /data/pathology/projects/pathology-lung-TIL/nnUNet_raw_data_base/inference_results/Task020_WSI_on_train_batch_1_3/LI_S01_P000002_C0001_L01_A15_nnunet.tif\n",
      "Output file(s) already exist: /data/pathology/projects/pathology-lung-TIL/data/self_supervision/batch1_3_xmls/spacing4_simplify8_exclude_holes/LI_S01_P000002_C0001_L01_A15_nnunet_spacing4_simplify8_exclude_holes.xml (and optionally its .json)\n",
      "Done in 0.01 seconds\n",
      "\n",
      "\n",
      "[MASK [7/30]: EX_S09_P000166_C0001_B101_V03_T01_nnunet] \n",
      "spacing 4, simplify 8, union False, exclude_holes True\n"
     ]
    },
    {
     "name": "stderr",
     "output_type": "stream",
     "text": [
      "  0%|          | 0/1 [00:00<?, ?it/s]\n"
     ]
    },
    {
     "name": "stdout",
     "output_type": "stream",
     "text": [
      "processing /data/pathology/projects/pathology-lung-TIL/nnUNet_raw_data_base/inference_results/Task020_WSI_on_train_batch_1_3/EX_S09_P000166_C0001_B101_V03_T01_nnunet.tif\n",
      "Output file(s) already exist: /data/pathology/projects/pathology-lung-TIL/data/self_supervision/batch1_3_xmls/spacing4_simplify8_exclude_holes/EX_S09_P000166_C0001_B101_V03_T01_nnunet_spacing4_simplify8_exclude_holes.xml (and optionally its .json)\n",
      "Done in 0.01 seconds\n",
      "\n",
      "\n",
      "[MASK [8/30]: 11445_nnunet] \n",
      "spacing 4, simplify 8, union False, exclude_holes True\n"
     ]
    },
    {
     "name": "stderr",
     "output_type": "stream",
     "text": [
      "  0%|          | 0/1 [00:00<?, ?it/s]\n"
     ]
    },
    {
     "name": "stdout",
     "output_type": "stream",
     "text": [
      "processing /data/pathology/projects/pathology-lung-TIL/nnUNet_raw_data_base/inference_results/Task020_WSI_on_train_batch_1_3/11445_nnunet.tif\n",
      "Output file(s) already exist: /data/pathology/projects/pathology-lung-TIL/data/self_supervision/batch1_3_xmls/spacing4_simplify8_exclude_holes/11445_nnunet_spacing4_simplify8_exclude_holes.xml (and optionally its .json)\n",
      "Done in 0.02 seconds\n",
      "\n",
      "\n",
      "[MASK [9/30]: EX_S09_P000066_C0001_B101_V01_T01_E001_nnunet] \n",
      "spacing 4, simplify 8, union False, exclude_holes True\n"
     ]
    },
    {
     "name": "stderr",
     "output_type": "stream",
     "text": [
      "  0%|          | 0/1 [00:00<?, ?it/s]\n"
     ]
    },
    {
     "name": "stdout",
     "output_type": "stream",
     "text": [
      "processing /data/pathology/projects/pathology-lung-TIL/nnUNet_raw_data_base/inference_results/Task020_WSI_on_train_batch_1_3/EX_S09_P000066_C0001_B101_V01_T01_E001_nnunet.tif\n",
      "Output file(s) already exist: /data/pathology/projects/pathology-lung-TIL/data/self_supervision/batch1_3_xmls/spacing4_simplify8_exclude_holes/EX_S09_P000066_C0001_B101_V01_T01_E001_nnunet_spacing4_simplify8_exclude_holes.xml (and optionally its .json)\n",
      "Done in 0.01 seconds\n",
      "\n",
      "\n",
      "[MASK [10/30]: LI_S01_P000059_C0001_L01_A15_nnunet] \n",
      "spacing 4, simplify 8, union False, exclude_holes True\n"
     ]
    },
    {
     "name": "stderr",
     "output_type": "stream",
     "text": [
      "  0%|          | 0/1 [00:00<?, ?it/s]\n"
     ]
    },
    {
     "name": "stdout",
     "output_type": "stream",
     "text": [
      "processing /data/pathology/projects/pathology-lung-TIL/nnUNet_raw_data_base/inference_results/Task020_WSI_on_train_batch_1_3/LI_S01_P000059_C0001_L01_A15_nnunet.tif\n",
      "Output file(s) already exist: /data/pathology/projects/pathology-lung-TIL/data/self_supervision/batch1_3_xmls/spacing4_simplify8_exclude_holes/LI_S01_P000059_C0001_L01_A15_nnunet_spacing4_simplify8_exclude_holes.xml (and optionally its .json)\n",
      "Done in 0.01 seconds\n",
      "\n",
      "\n",
      "[MASK [11/30]: EX_S09_P000155_C0001_B101_V01_T01_nnunet] \n",
      "spacing 4, simplify 8, union False, exclude_holes True\n"
     ]
    },
    {
     "name": "stderr",
     "output_type": "stream",
     "text": [
      "  0%|          | 0/1 [00:00<?, ?it/s]\n"
     ]
    },
    {
     "name": "stdout",
     "output_type": "stream",
     "text": [
      "processing /data/pathology/projects/pathology-lung-TIL/nnUNet_raw_data_base/inference_results/Task020_WSI_on_train_batch_1_3/EX_S09_P000155_C0001_B101_V01_T01_nnunet.tif\n",
      "Output file(s) already exist: /data/pathology/projects/pathology-lung-TIL/data/self_supervision/batch1_3_xmls/spacing4_simplify8_exclude_holes/EX_S09_P000155_C0001_B101_V01_T01_nnunet_spacing4_simplify8_exclude_holes.xml (and optionally its .json)\n",
      "Done in 0.01 seconds\n",
      "\n",
      "\n",
      "[MASK [12/30]: LI_S01_P000017_C0001_L01_A15_nnunet] \n",
      "spacing 4, simplify 8, union False, exclude_holes True\n"
     ]
    },
    {
     "name": "stderr",
     "output_type": "stream",
     "text": [
      "  0%|          | 0/1 [00:00<?, ?it/s]\n"
     ]
    },
    {
     "name": "stdout",
     "output_type": "stream",
     "text": [
      "processing /data/pathology/projects/pathology-lung-TIL/nnUNet_raw_data_base/inference_results/Task020_WSI_on_train_batch_1_3/LI_S01_P000017_C0001_L01_A15_nnunet.tif\n",
      "Output file(s) already exist: /data/pathology/projects/pathology-lung-TIL/data/self_supervision/batch1_3_xmls/spacing4_simplify8_exclude_holes/LI_S01_P000017_C0001_L01_A15_nnunet_spacing4_simplify8_exclude_holes.xml (and optionally its .json)\n",
      "Done in 0.03 seconds\n",
      "\n",
      "\n",
      "[MASK [13/30]: LI_S01_P000043_C0001_L01_A15_nnunet] \n",
      "spacing 4, simplify 8, union False, exclude_holes True\n"
     ]
    },
    {
     "name": "stderr",
     "output_type": "stream",
     "text": [
      "  0%|          | 0/1 [00:00<?, ?it/s]"
     ]
    },
    {
     "name": "stdout",
     "output_type": "stream",
     "text": [
      "processing /data/pathology/projects/pathology-lung-TIL/nnUNet_raw_data_base/inference_results/Task020_WSI_on_train_batch_1_3/LI_S01_P000043_C0001_L01_A15_nnunet.tif\n"
     ]
    },
    {
     "name": "stderr",
     "output_type": "stream",
     "text": [
      "  0%|          | 0/1 [00:00<?, ?it/s]\n"
     ]
    },
    {
     "name": "stdout",
     "output_type": "stream",
     "text": [
      "Output file(s) already exist: /data/pathology/projects/pathology-lung-TIL/data/self_supervision/batch1_3_xmls/spacing4_simplify8_exclude_holes/LI_S01_P000043_C0001_L01_A15_nnunet_spacing4_simplify8_exclude_holes.xml (and optionally its .json)\n",
      "Done in 0.01 seconds\n",
      "\n",
      "\n",
      "[MASK [14/30]: EX_S09_P000077_C0001_B101_V02_T01_nnunet] \n",
      "spacing 4, simplify 8, union False, exclude_holes True\n"
     ]
    },
    {
     "name": "stderr",
     "output_type": "stream",
     "text": [
      "  0%|          | 0/1 [00:00<?, ?it/s]\n"
     ]
    },
    {
     "name": "stdout",
     "output_type": "stream",
     "text": [
      "processing /data/pathology/projects/pathology-lung-TIL/nnUNet_raw_data_base/inference_results/Task020_WSI_on_train_batch_1_3/EX_S09_P000077_C0001_B101_V02_T01_nnunet.tif\n",
      "Output file(s) already exist: /data/pathology/projects/pathology-lung-TIL/data/self_supervision/batch1_3_xmls/spacing4_simplify8_exclude_holes/EX_S09_P000077_C0001_B101_V02_T01_nnunet_spacing4_simplify8_exclude_holes.xml (and optionally its .json)\n",
      "Done in 0.01 seconds\n",
      "\n",
      "\n",
      "[MASK [15/30]: LI_S01_P000026_C0001_L01_A15_nnunet] \n",
      "spacing 4, simplify 8, union False, exclude_holes True\n"
     ]
    },
    {
     "name": "stderr",
     "output_type": "stream",
     "text": [
      "  0%|          | 0/1 [00:00<?, ?it/s]\n"
     ]
    },
    {
     "name": "stdout",
     "output_type": "stream",
     "text": [
      "processing /data/pathology/projects/pathology-lung-TIL/nnUNet_raw_data_base/inference_results/Task020_WSI_on_train_batch_1_3/LI_S01_P000026_C0001_L01_A15_nnunet.tif\n",
      "Output file(s) already exist: /data/pathology/projects/pathology-lung-TIL/data/self_supervision/batch1_3_xmls/spacing4_simplify8_exclude_holes/LI_S01_P000026_C0001_L01_A15_nnunet_spacing4_simplify8_exclude_holes.xml (and optionally its .json)\n",
      "Done in 0.03 seconds\n",
      "\n",
      "\n",
      "[MASK [16/30]: LI_S01_P000015_C0001_L01_A15_nnunet] \n",
      "spacing 4, simplify 8, union False, exclude_holes True\n"
     ]
    },
    {
     "name": "stderr",
     "output_type": "stream",
     "text": [
      "  0%|          | 0/1 [00:00<?, ?it/s]\n"
     ]
    },
    {
     "name": "stdout",
     "output_type": "stream",
     "text": [
      "processing /data/pathology/projects/pathology-lung-TIL/nnUNet_raw_data_base/inference_results/Task020_WSI_on_train_batch_1_3/LI_S01_P000015_C0001_L01_A15_nnunet.tif\n",
      "Output file(s) already exist: /data/pathology/projects/pathology-lung-TIL/data/self_supervision/batch1_3_xmls/spacing4_simplify8_exclude_holes/LI_S01_P000015_C0001_L01_A15_nnunet_spacing4_simplify8_exclude_holes.xml (and optionally its .json)\n",
      "Done in 0.02 seconds\n",
      "\n",
      "\n",
      "[MASK [17/30]: LI_S01_P000040_C0001_L01_A15_nnunet] \n",
      "spacing 4, simplify 8, union False, exclude_holes True\n"
     ]
    },
    {
     "name": "stderr",
     "output_type": "stream",
     "text": [
      "  0%|          | 0/1 [00:00<?, ?it/s]"
     ]
    },
    {
     "name": "stdout",
     "output_type": "stream",
     "text": [
      "processing /data/pathology/projects/pathology-lung-TIL/nnUNet_raw_data_base/inference_results/Task020_WSI_on_train_batch_1_3/LI_S01_P000040_C0001_L01_A15_nnunet.tif\n"
     ]
    },
    {
     "name": "stderr",
     "output_type": "stream",
     "text": [
      "  0%|          | 0/1 [00:00<?, ?it/s]\n"
     ]
    },
    {
     "name": "stdout",
     "output_type": "stream",
     "text": [
      "Output file(s) already exist: /data/pathology/projects/pathology-lung-TIL/data/self_supervision/batch1_3_xmls/spacing4_simplify8_exclude_holes/LI_S01_P000040_C0001_L01_A15_nnunet_spacing4_simplify8_exclude_holes.xml (and optionally its .json)\n",
      "Done in 0.03 seconds\n",
      "\n",
      "\n",
      "[MASK [18/30]: LI_S01_P000010_C0001_L01_A15_nnunet] \n",
      "spacing 4, simplify 8, union False, exclude_holes True\n"
     ]
    },
    {
     "name": "stderr",
     "output_type": "stream",
     "text": [
      "  0%|          | 0/1 [00:00<?, ?it/s]\n"
     ]
    },
    {
     "name": "stdout",
     "output_type": "stream",
     "text": [
      "processing /data/pathology/projects/pathology-lung-TIL/nnUNet_raw_data_base/inference_results/Task020_WSI_on_train_batch_1_3/LI_S01_P000010_C0001_L01_A15_nnunet.tif\n",
      "Output file(s) already exist: /data/pathology/projects/pathology-lung-TIL/data/self_supervision/batch1_3_xmls/spacing4_simplify8_exclude_holes/LI_S01_P000010_C0001_L01_A15_nnunet_spacing4_simplify8_exclude_holes.xml (and optionally its .json)\n",
      "Done in 0.02 seconds\n",
      "\n",
      "\n",
      "[MASK [19/30]: LI_S01_P000023_C0001_L01_A15_nnunet] \n",
      "spacing 4, simplify 8, union False, exclude_holes True\n"
     ]
    },
    {
     "name": "stderr",
     "output_type": "stream",
     "text": [
      "  0%|          | 0/1 [00:00<?, ?it/s]"
     ]
    },
    {
     "name": "stdout",
     "output_type": "stream",
     "text": [
      "processing /data/pathology/projects/pathology-lung-TIL/nnUNet_raw_data_base/inference_results/Task020_WSI_on_train_batch_1_3/LI_S01_P000023_C0001_L01_A15_nnunet.tif\n"
     ]
    },
    {
     "name": "stderr",
     "output_type": "stream",
     "text": [
      "  0%|          | 0/1 [00:00<?, ?it/s]\n"
     ]
    },
    {
     "name": "stdout",
     "output_type": "stream",
     "text": [
      "Output file(s) already exist: /data/pathology/projects/pathology-lung-TIL/data/self_supervision/batch1_3_xmls/spacing4_simplify8_exclude_holes/LI_S01_P000023_C0001_L01_A15_nnunet_spacing4_simplify8_exclude_holes.xml (and optionally its .json)\n",
      "Done in 0.01 seconds\n",
      "\n",
      "\n",
      "[MASK [20/30]: LI_S01_P000022_C0001_L01_A15_nnunet] \n",
      "spacing 4, simplify 8, union False, exclude_holes True\n"
     ]
    },
    {
     "name": "stderr",
     "output_type": "stream",
     "text": [
      "  0%|          | 0/1 [00:00<?, ?it/s]"
     ]
    },
    {
     "name": "stdout",
     "output_type": "stream",
     "text": [
      "processing /data/pathology/projects/pathology-lung-TIL/nnUNet_raw_data_base/inference_results/Task020_WSI_on_train_batch_1_3/LI_S01_P000022_C0001_L01_A15_nnunet.tif\n"
     ]
    },
    {
     "name": "stderr",
     "output_type": "stream",
     "text": [
      "  0%|          | 0/1 [00:00<?, ?it/s]\n"
     ]
    },
    {
     "name": "stdout",
     "output_type": "stream",
     "text": [
      "Output file(s) already exist: /data/pathology/projects/pathology-lung-TIL/data/self_supervision/batch1_3_xmls/spacing4_simplify8_exclude_holes/LI_S01_P000022_C0001_L01_A15_nnunet_spacing4_simplify8_exclude_holes.xml (and optionally its .json)\n",
      "Done in 0.02 seconds\n",
      "\n",
      "\n",
      "[MASK [21/30]: LI_S01_P000013_C0001_L01_A15_nnunet] \n",
      "spacing 4, simplify 8, union False, exclude_holes True\n"
     ]
    },
    {
     "name": "stderr",
     "output_type": "stream",
     "text": [
      "  0%|          | 0/1 [00:00<?, ?it/s]"
     ]
    },
    {
     "name": "stdout",
     "output_type": "stream",
     "text": [
      "processing /data/pathology/projects/pathology-lung-TIL/nnUNet_raw_data_base/inference_results/Task020_WSI_on_train_batch_1_3/LI_S01_P000013_C0001_L01_A15_nnunet.tif\n"
     ]
    },
    {
     "name": "stderr",
     "output_type": "stream",
     "text": [
      "  0%|          | 0/1 [00:00<?, ?it/s]\n"
     ]
    },
    {
     "name": "stdout",
     "output_type": "stream",
     "text": [
      "Output file(s) already exist: /data/pathology/projects/pathology-lung-TIL/data/self_supervision/batch1_3_xmls/spacing4_simplify8_exclude_holes/LI_S01_P000013_C0001_L01_A15_nnunet_spacing4_simplify8_exclude_holes.xml (and optionally its .json)\n",
      "Done in 0.02 seconds\n",
      "\n",
      "\n",
      "[MASK [22/30]: LI_S01_P000047_C0001_L01_A15_nnunet] \n",
      "spacing 4, simplify 8, union False, exclude_holes True\n"
     ]
    },
    {
     "name": "stderr",
     "output_type": "stream",
     "text": [
      "  0%|          | 0/1 [00:00<?, ?it/s]\n"
     ]
    },
    {
     "name": "stdout",
     "output_type": "stream",
     "text": [
      "processing /data/pathology/projects/pathology-lung-TIL/nnUNet_raw_data_base/inference_results/Task020_WSI_on_train_batch_1_3/LI_S01_P000047_C0001_L01_A15_nnunet.tif\n",
      "Output file(s) already exist: /data/pathology/projects/pathology-lung-TIL/data/self_supervision/batch1_3_xmls/spacing4_simplify8_exclude_holes/LI_S01_P000047_C0001_L01_A15_nnunet_spacing4_simplify8_exclude_holes.xml (and optionally its .json)\n",
      "Done in 0.02 seconds\n",
      "\n",
      "\n",
      "[MASK [23/30]: LI_S01_P000021_C0001_L01_A15_nnunet] \n",
      "spacing 4, simplify 8, union False, exclude_holes True\n"
     ]
    },
    {
     "name": "stderr",
     "output_type": "stream",
     "text": [
      "  0%|          | 0/1 [00:00<?, ?it/s]\n"
     ]
    },
    {
     "name": "stdout",
     "output_type": "stream",
     "text": [
      "processing /data/pathology/projects/pathology-lung-TIL/nnUNet_raw_data_base/inference_results/Task020_WSI_on_train_batch_1_3/LI_S01_P000021_C0001_L01_A15_nnunet.tif\n",
      "Output file(s) already exist: /data/pathology/projects/pathology-lung-TIL/data/self_supervision/batch1_3_xmls/spacing4_simplify8_exclude_holes/LI_S01_P000021_C0001_L01_A15_nnunet_spacing4_simplify8_exclude_holes.xml (and optionally its .json)\n",
      "Done in 0.01 seconds\n",
      "\n",
      "\n",
      "[MASK [24/30]: LI_S01_P000018_C0001_L01_A15_nnunet] \n",
      "spacing 4, simplify 8, union False, exclude_holes True\n"
     ]
    },
    {
     "name": "stderr",
     "output_type": "stream",
     "text": [
      "  0%|          | 0/1 [00:00<?, ?it/s]"
     ]
    },
    {
     "name": "stdout",
     "output_type": "stream",
     "text": [
      "processing /data/pathology/projects/pathology-lung-TIL/nnUNet_raw_data_base/inference_results/Task020_WSI_on_train_batch_1_3/LI_S01_P000018_C0001_L01_A15_nnunet.tif\n"
     ]
    },
    {
     "name": "stderr",
     "output_type": "stream",
     "text": [
      "  0%|          | 0/1 [00:00<?, ?it/s]\n"
     ]
    },
    {
     "name": "stdout",
     "output_type": "stream",
     "text": [
      "Output file(s) already exist: /data/pathology/projects/pathology-lung-TIL/data/self_supervision/batch1_3_xmls/spacing4_simplify8_exclude_holes/LI_S01_P000018_C0001_L01_A15_nnunet_spacing4_simplify8_exclude_holes.xml (and optionally its .json)\n",
      "Done in 0.02 seconds\n",
      "\n",
      "\n",
      "[MASK [25/30]: LI_S01_P000019_C0001_L01_A15_nnunet] \n",
      "spacing 4, simplify 8, union False, exclude_holes True\n"
     ]
    },
    {
     "name": "stderr",
     "output_type": "stream",
     "text": [
      "  0%|          | 0/1 [00:00<?, ?it/s]\n"
     ]
    },
    {
     "name": "stdout",
     "output_type": "stream",
     "text": [
      "processing /data/pathology/projects/pathology-lung-TIL/nnUNet_raw_data_base/inference_results/Task020_WSI_on_train_batch_1_3/LI_S01_P000019_C0001_L01_A15_nnunet.tif\n",
      "Output file(s) already exist: /data/pathology/projects/pathology-lung-TIL/data/self_supervision/batch1_3_xmls/spacing4_simplify8_exclude_holes/LI_S01_P000019_C0001_L01_A15_nnunet_spacing4_simplify8_exclude_holes.xml (and optionally its .json)\n",
      "Done in 0.02 seconds\n",
      "\n",
      "\n",
      "[MASK [26/30]: EX_S09_P000162_C0001_B101_V03_T01_nnunet] \n",
      "spacing 4, simplify 8, union False, exclude_holes True\n"
     ]
    },
    {
     "name": "stderr",
     "output_type": "stream",
     "text": [
      "  0%|          | 0/1 [00:00<?, ?it/s]"
     ]
    },
    {
     "name": "stdout",
     "output_type": "stream",
     "text": [
      "processing /data/pathology/projects/pathology-lung-TIL/nnUNet_raw_data_base/inference_results/Task020_WSI_on_train_batch_1_3/EX_S09_P000162_C0001_B101_V03_T01_nnunet.tif\n"
     ]
    },
    {
     "name": "stderr",
     "output_type": "stream",
     "text": [
      "  0%|          | 0/1 [00:00<?, ?it/s]\n"
     ]
    },
    {
     "name": "stdout",
     "output_type": "stream",
     "text": [
      "Output file(s) already exist: /data/pathology/projects/pathology-lung-TIL/data/self_supervision/batch1_3_xmls/spacing4_simplify8_exclude_holes/EX_S09_P000162_C0001_B101_V03_T01_nnunet_spacing4_simplify8_exclude_holes.xml (and optionally its .json)\n",
      "Done in 0.01 seconds\n",
      "\n",
      "\n",
      "[MASK [27/30]: EX_S09_P000139_C0001_B101_V04_T01_nnunet] \n",
      "spacing 4, simplify 8, union False, exclude_holes True\n"
     ]
    },
    {
     "name": "stderr",
     "output_type": "stream",
     "text": [
      "  0%|          | 0/1 [00:00<?, ?it/s]\n"
     ]
    },
    {
     "name": "stdout",
     "output_type": "stream",
     "text": [
      "processing /data/pathology/projects/pathology-lung-TIL/nnUNet_raw_data_base/inference_results/Task020_WSI_on_train_batch_1_3/EX_S09_P000139_C0001_B101_V04_T01_nnunet.tif\n",
      "Output file(s) already exist: /data/pathology/projects/pathology-lung-TIL/data/self_supervision/batch1_3_xmls/spacing4_simplify8_exclude_holes/EX_S09_P000139_C0001_B101_V04_T01_nnunet_spacing4_simplify8_exclude_holes.xml (and optionally its .json)\n",
      "Done in 0.01 seconds\n",
      "\n",
      "\n",
      "[MASK [28/30]: LI_S01_P000029_C0001_L01_A15_nnunet] \n",
      "spacing 4, simplify 8, union False, exclude_holes True\n"
     ]
    },
    {
     "name": "stderr",
     "output_type": "stream",
     "text": [
      "  0%|          | 0/1 [00:00<?, ?it/s]\n"
     ]
    },
    {
     "name": "stdout",
     "output_type": "stream",
     "text": [
      "processing /data/pathology/projects/pathology-lung-TIL/nnUNet_raw_data_base/inference_results/Task020_WSI_on_train_batch_1_3/LI_S01_P000029_C0001_L01_A15_nnunet.tif\n",
      "Output file(s) already exist: /data/pathology/projects/pathology-lung-TIL/data/self_supervision/batch1_3_xmls/spacing4_simplify8_exclude_holes/LI_S01_P000029_C0001_L01_A15_nnunet_spacing4_simplify8_exclude_holes.xml (and optionally its .json)\n",
      "Done in 0.01 seconds\n",
      "\n",
      "\n",
      "[MASK [29/30]: EX_S09_P000127_C0001_B101_V02_T01_nnunet] \n",
      "spacing 4, simplify 8, union False, exclude_holes True\n"
     ]
    },
    {
     "name": "stderr",
     "output_type": "stream",
     "text": [
      "  0%|          | 0/1 [00:00<?, ?it/s]\n"
     ]
    },
    {
     "name": "stdout",
     "output_type": "stream",
     "text": [
      "processing /data/pathology/projects/pathology-lung-TIL/nnUNet_raw_data_base/inference_results/Task020_WSI_on_train_batch_1_3/EX_S09_P000127_C0001_B101_V02_T01_nnunet.tif\n",
      "Output file(s) already exist: /data/pathology/projects/pathology-lung-TIL/data/self_supervision/batch1_3_xmls/spacing4_simplify8_exclude_holes/EX_S09_P000127_C0001_B101_V02_T01_nnunet_spacing4_simplify8_exclude_holes.xml (and optionally its .json)\n",
      "Done in 0.01 seconds\n",
      "\n",
      "\n",
      "[MASK [30/30]: EX_S09_P000001_C0001_B101_V04_T01_E002_nnunet] \n",
      "spacing 4, simplify 8, union False, exclude_holes True\n"
     ]
    },
    {
     "name": "stderr",
     "output_type": "stream",
     "text": [
      "  0%|          | 0/1 [00:00<?, ?it/s]"
     ]
    },
    {
     "name": "stdout",
     "output_type": "stream",
     "text": [
      "processing /data/pathology/projects/pathology-lung-TIL/nnUNet_raw_data_base/inference_results/Task020_WSI_on_train_batch_1_3/EX_S09_P000001_C0001_B101_V04_T01_E002_nnunet.tif\n",
      "Output file(s) already exist: /data/pathology/projects/pathology-lung-TIL/data/self_supervision/batch1_3_xmls/spacing4_simplify8_exclude_holes/EX_S09_P000001_C0001_B101_V04_T01_E002_nnunet_spacing4_simplify8_exclude_holes.xml (and optionally its .json)\n",
      "Done in 0.01 seconds\n",
      "\n",
      "\n",
      "DONE!!!!!!!!!!!!!!!!!!!!!!!!!!!!!!!!!!!!!!!!!!!!!!!!!!!!!!!!!!!!!\n"
     ]
    },
    {
     "name": "stderr",
     "output_type": "stream",
     "text": [
      "\n"
     ]
    }
   ],
   "source": [
    "for mask_idx, mask_path in enumerate(mask_paths):\n",
    "    print(f'[MASK [{mask_idx+1}/{len(mask_paths)}]: {Path(mask_path).stem}] \\nspacing {processing_spacing}, simplify {simplify}, union {union}, exclude_holes {exclude_holes}')\n",
    "    \n",
    "    filename_tail = f'_spacing{processing_spacing}_simplify{str(simplify).replace(\".\", \"\")}{\"_exclude_holes\" if exclude_holes else \"\"}'\n",
    "    output_folder = output_parent_folder / filename_tail.strip('_')\n",
    "    os.makedirs(output_folder, exist_ok=True)\n",
    "    \n",
    "    # Record the start time\n",
    "    start_time = time.time()\n",
    "\n",
    "    # Call the main function\n",
    "    main_new(\n",
    "        mask_path=Path(mask_path),\n",
    "        output_folder=Path(output_folder),\n",
    "        processing_spacing=processing_spacing,\n",
    "        label_mapping=label_mapping,\n",
    "        color_mapping=color_mapping,\n",
    "        dilation_iterations=dilation_iterations,\n",
    "        erose_iterations=erose_iterations,\n",
    "        exclude_holes=exclude_holes, \n",
    "        mask_wsi_spacing_ratio=mask_wsi_spacing_ratio,\n",
    "        simplify=simplify,\n",
    "        union=union,\n",
    "        filename_tail=filename_tail,\n",
    "        write_additional_json=write_additional_json,\n",
    "        overwrite=overwrite,\n",
    "        ret=False,\n",
    "    )\n",
    "\n",
    "    # Record the end time\n",
    "    end_time = time.time()\n",
    "\n",
    "    # Calculate the elapsed time\n",
    "    elapsed_time = end_time - start_time\n",
    "\n",
    "    # Print the elapsed time\n",
    "    print(f'Done in {elapsed_time:.2f} seconds\\n\\n')\n",
    "print('DONE!!!!!!!!!!!!!!!!!!!!!!!!!!!!!!!!!!!!!!!!!!!!!!!!!!!!!!!!!!!!!')"
   ]
  },
  {
   "cell_type": "markdown",
   "id": "0983818e-6308-4a13-a9a4-43b9380cc2fa",
   "metadata": {},
   "source": [
    "# WIP CODE"
   ]
  },
  {
   "cell_type": "code",
   "execution_count": 19,
   "id": "e4887a7a-f755-49f4-9285-9c9fc4003e83",
   "metadata": {},
   "outputs": [
    {
     "ename": "ZeroDivisionError",
     "evalue": "division by zero",
     "output_type": "error",
     "traceback": [
      "\u001b[0;31m---------------------------------------------------------------------------\u001b[0m",
      "\u001b[0;31mZeroDivisionError\u001b[0m                         Traceback (most recent call last)",
      "Input \u001b[0;32mIn [19]\u001b[0m, in \u001b[0;36m<cell line: 1>\u001b[0;34m()\u001b[0m\n\u001b[0;32m----> 1\u001b[0m \u001b[38;5;241;43m1\u001b[39;49m\u001b[38;5;241;43m/\u001b[39;49m\u001b[38;5;241;43m0\u001b[39;49m\n",
      "\u001b[0;31mZeroDivisionError\u001b[0m: division by zero"
     ]
    }
   ],
   "source": [
    "1/0"
   ]
  },
  {
   "cell_type": "code",
   "execution_count": null,
   "id": "02ede126-adaf-4dd2-a32f-2ec35f241e90",
   "metadata": {},
   "outputs": [],
   "source": [
    "polygons, annotations = main_new(\n",
    "            mask_path=Path(mask_path),\n",
    "            output_folder=Path(str(output_folder_exlude_holes)),\n",
    "            processing_spacing=processing_spacing,\n",
    "            label_mapping=label_mapping,\n",
    "            color_mapping=color_mapping,\n",
    "            dilation_iterations=dilation_iterations,\n",
    "            erose_iterations=erose_iterations,\n",
    "            exclude_holes=exclude_holes, \n",
    "            mask_wsi_spacing_ratio=mask_wsi_spacing_ratio,\n",
    "            simplify=simplify,\n",
    "            union=union,\n",
    "            filename_tail=output_filename,\n",
    "            overwrite=True,\n",
    "            ret=True,\n",
    "        )"
   ]
  },
  {
   "cell_type": "markdown",
   "id": "b156f9fa-1029-495c-b554-afe7e3647e10",
   "metadata": {
    "tags": []
   },
   "source": [
    "# Temp background improvement working code"
   ]
  },
  {
   "cell_type": "markdown",
   "id": "8ebbc614-8d8a-465c-b22a-249e6f4ad84f",
   "metadata": {},
   "source": [
    "The problem here is that the biggest background polygon covers the full image (its all background around the tissue). Sampling background in fully white areas is suboptimal, therefore this polygon should be reduced to a boundary around the tissue "
   ]
  },
  {
   "cell_type": "code",
   "execution_count": null,
   "id": "8d56e7f2-b71c-45f3-92ab-96c74c055619",
   "metadata": {},
   "outputs": [],
   "source": [
    "def tissue_mask_to_background_polygons(tissue_mask): # tissue mask is 1 for all tissue and 0 for background\n",
    "    tissue_mask = binary_fill_holes(tissue_mask).astype(np.uint8)\n",
    "    polygons, hierarchies = cv2.findContours((tissue_mask).astype(np.uint8), cv2.RETR_CCOMP, cv2.CHAIN_APPROX_NONE, offset=(-1, -1))\n",
    "    polygons, hierarchies = zip(*[(np.array(polygon[:, 0, :]), hierarchy) \\\n",
    "                                          for polygon, hierarchy in zip(polygons, hierarchies[0]) \\\n",
    "                                          if len(polygon) >= 3])\n",
    "    polygons = [Polygon(polygon) for polygon in polygons]\n",
    "    return polygons"
   ]
  },
  {
   "cell_type": "code",
   "execution_count": null,
   "id": "a0760131-9f9c-49ac-b11b-2042ba05e7b9",
   "metadata": {},
   "outputs": [],
   "source": [
    "def buffer_and_remove_holes(geometries, buffer=16, simplify=4):\n",
    "    # Perform unary union to merge all the geometries\n",
    "    union_geometry = unary_union(geometries).buffer(buffer).simplify(simplify)\n",
    "\n",
    "    # Check if the result is a MultiPolygon\n",
    "    if isinstance(union_geometry, MultiPolygon):\n",
    "        # Create a list of the exteriors of all polygons\n",
    "        exteriors = [Polygon(polygon.exterior) for polygon in union_geometry]\n",
    "\n",
    "        # Create a new MultiPolygon from the exteriors\n",
    "        no_holes_polygon = MultiPolygon(exteriors)\n",
    "    else:\n",
    "        # If the result is not a MultiPolygon, you may have a single Polygon with no holes\n",
    "        no_holes_polygon = union_geometry\n",
    "\n",
    "    return no_holes_polygon"
   ]
  },
  {
   "cell_type": "code",
   "execution_count": null,
   "id": "5781479f-b828-4117-9115-458a553e634c",
   "metadata": {},
   "outputs": [],
   "source": [
    "### May be that there is something in the function below that is not in the function above\n",
    "# def union_background_polygons_to_buffered_exterior(buffered_polygons_union):\n",
    "#     # Check if the result is a MultiPolygon\n",
    "#     if isinstance(union_geometry, MultiPolygon):\n",
    "#         # Convert MultiPolygon to a Polygon without holes\n",
    "#         if union_geometry.is_valid:\n",
    "#             # If the result is valid, create a Polygon from the exterior of the first polygon\n",
    "#             no_holes_polygon = Polygon(union_geometry[0].exterior)\n",
    "#         else:\n",
    "#             # If the result is invalid, use buffer(0) to fix it\n",
    "#             no_holes_polygon = Polygon(union_geometry[0].buffer(0))\n",
    "#     else:\n",
    "#         # If the result is not a MultiPolygon, you may have a single Polygon with no holes\n",
    "#         no_holes_polygon = union_geometry\n",
    "#     return no_holes_polygon"
   ]
  },
  {
   "cell_type": "code",
   "execution_count": null,
   "id": "a1ed3cea-8345-44ce-9fc5-ac2ca098e3ae",
   "metadata": {},
   "outputs": [],
   "source": [
    "def get_biggest_polygon_index(polygon_or_coordinates_list):\n",
    "    polygon_areas = [Polygon(p).area for p in polygon_or_coordinates_list]   \n",
    "    return polygon_areas.index(max(polygon_areas))"
   ]
  },
  {
   "cell_type": "code",
   "execution_count": null,
   "id": "d1e4555c-4b3a-4420-83bc-d58c4eefc421",
   "metadata": {},
   "outputs": [],
   "source": [
    "mask_slide = WholeSlideImage(mask_paths[1], backend='asap').get_slide(spacing=8)\n",
    "tissue_mask = (mask_slide!=0).squeeze()"
   ]
  },
  {
   "cell_type": "code",
   "execution_count": null,
   "id": "773f3ab1-0c63-4cff-8c12-5f377abc1126",
   "metadata": {},
   "outputs": [],
   "source": [
    "background_polygons = tissue_mask_to_background_polygons(tissue_mask)\n",
    "background_polygons = buffer_and_remove_holes(background_polygons)"
   ]
  },
  {
   "cell_type": "code",
   "execution_count": null,
   "id": "eabee973-737f-4f88-affc-5288958bda1f",
   "metadata": {},
   "outputs": [],
   "source": [
    "background_polygons"
   ]
  },
  {
   "cell_type": "markdown",
   "id": "f3ed29d5-64de-4bb3-8d8c-15c4826706ac",
   "metadata": {},
   "source": [
    "Now write this one and remove the biggest one"
   ]
  },
  {
   "cell_type": "code",
   "execution_count": null,
   "id": "4d4e0bd2-e53e-47d9-a8ef-1a1e6f7c78dd",
   "metadata": {},
   "outputs": [],
   "source": [
    "get_biggest_polygon_index(polygons[0])"
   ]
  },
  {
   "cell_type": "code",
   "execution_count": null,
   "id": "bdc240e3-ac5b-4fc6-8c98-581415f622d3",
   "metadata": {},
   "outputs": [],
   "source": [
    "polygons[0][get_biggest_polygon_index(polygons[0])]"
   ]
  },
  {
   "cell_type": "markdown",
   "id": "31867223-f2b9-4c14-90bc-a900d3d7d217",
   "metadata": {
    "tags": []
   },
   "source": [
    "# Temp code for improving removal of very small polygons"
   ]
  },
  {
   "cell_type": "markdown",
   "id": "b65b51c3-348f-4ebc-bf45-eb95e8e28b40",
   "metadata": {},
   "source": [
    "The problem here is that in the inference maps there are a lot of small polygons that contain about no information, but are very abundant in the xml. \n",
    "\n",
    "This is troublesome for cpu usage during sampling (probably, struggling with this) and these are probably false positives expecially for coarse polygons on high processing spacing, and they are sampled a lot compared to bigger annotations (due to standard sqrt normalised area sampling in nnuNet)"
   ]
  },
  {
   "cell_type": "code",
   "execution_count": null,
   "id": "7e5a304d-d1e2-48f0-b08b-51aa840c6647",
   "metadata": {},
   "outputs": [],
   "source": [
    "annotations[200].area"
   ]
  },
  {
   "cell_type": "code",
   "execution_count": null,
   "id": "7e2cef6c-bd39-41c3-adc0-fdb3d355cb64",
   "metadata": {},
   "outputs": [],
   "source": [
    "import pandas as pd"
   ]
  },
  {
   "cell_type": "code",
   "execution_count": null,
   "id": "e17107ef-3c23-450a-bbb4-cdb32bdce85b",
   "metadata": {},
   "outputs": [],
   "source": [
    "all_areas = [Polygon(p).area for polygons_class in polygons for p in polygons[polygons_class]]"
   ]
  },
  {
   "cell_type": "code",
   "execution_count": null,
   "id": "7c44a7de-af31-4fb7-b89f-477fe2647b47",
   "metadata": {},
   "outputs": [],
   "source": [
    "all_class_areas = {polygons_class : [Polygon(p).area for p in polygons[polygons_class]] for polygons_class in polygons}"
   ]
  },
  {
   "cell_type": "code",
   "execution_count": null,
   "id": "8e1312e6-9eeb-42af-97a4-72252c6a93e3",
   "metadata": {},
   "outputs": [],
   "source": [
    "inv_labels = {v:k for k, v in labels.items()}"
   ]
  },
  {
   "cell_type": "code",
   "execution_count": null,
   "id": "30476361-3cdb-45f0-af9b-ad1ef5d740f4",
   "metadata": {},
   "outputs": [],
   "source": [
    "data = []\n",
    "for value, class_areas in all_class_areas.items():\n",
    "    data.append([inv_labels[value], len(class_areas), sum(np.array(class_areas) <= 1), round(sum(np.array(class_areas) <= 1)/(len(class_areas)+0.000001), 2)])\n",
    "df = pd.DataFrame(data, columns=['label', 'total count', 'count <1', 'perenctage <1'])"
   ]
  },
  {
   "cell_type": "code",
   "execution_count": null,
   "id": "0b683bfd-01ae-4687-a9da-12ddfe3bef58",
   "metadata": {},
   "outputs": [],
   "source": [
    "df"
   ]
  },
  {
   "cell_type": "code",
   "execution_count": null,
   "id": "228eab73-34c6-4fad-a3d0-b52a7cc492f1",
   "metadata": {},
   "outputs": [],
   "source": [
    "df[['total count', 'count <1']].sum(axis=0).values\n",
    "19852/76438"
   ]
  },
  {
   "cell_type": "code",
   "execution_count": null,
   "id": "b0236f9e-513f-4a92-b6dd-26e73e7e0f9f",
   "metadata": {},
   "outputs": [],
   "source": [
    "sum(np.array(all_areas) <= 1), sum(np.array(all_areas) <= 1)/len(all_areas)"
   ]
  },
  {
   "cell_type": "code",
   "execution_count": null,
   "id": "4ffc0b1a-2569-469e-8536-46315147f7b9",
   "metadata": {},
   "outputs": [],
   "source": []
  },
  {
   "cell_type": "code",
   "execution_count": null,
   "id": "221ff779-bdd4-4356-84ae-c110d7738b5f",
   "metadata": {},
   "outputs": [],
   "source": []
  },
  {
   "cell_type": "code",
   "execution_count": null,
   "id": "0d7468a8-ffd3-44df-9a0a-b8bbc55ce8f0",
   "metadata": {},
   "outputs": [],
   "source": []
  },
  {
   "cell_type": "code",
   "execution_count": null,
   "id": "fa82ccec-96b3-4108-b8a1-4e8684504548",
   "metadata": {},
   "outputs": [],
   "source": []
  },
  {
   "cell_type": "code",
   "execution_count": null,
   "id": "eb94f700-0195-44dc-bcce-b60474e35932",
   "metadata": {},
   "outputs": [],
   "source": []
  },
  {
   "cell_type": "markdown",
   "id": "2e159ff4-a71b-4b87-9417-deac6d8532e1",
   "metadata": {},
   "source": [
    "# VISUALIZE"
   ]
  },
  {
   "cell_type": "code",
   "execution_count": null,
   "id": "f5a9d7bf-da5d-420a-aaa6-e6a8cabc672e",
   "metadata": {},
   "outputs": [],
   "source": [
    "1/0"
   ]
  },
  {
   "cell_type": "code",
   "execution_count": null,
   "id": "2bb2279e-f7d0-454c-ac2c-007c9f35a442",
   "metadata": {},
   "outputs": [],
   "source": [
    "from matplotlib.colors import LinearSegmentedColormap\n",
    "from matplotlib import cm\n",
    "# import pylab as plt\n",
    "\n",
    "# colormap = [ [ 0, 0, 0, 0 ], [ 0, 224, 249, 255 ], [ 0, 249, 50, 255 ], [ 174, 249, 0, 255 ], [ 249, 100, 0, 255 ], [ 249, 0, 125, 255 ], [ 149, 0, 249, 255 ], [ 0, 0, 206, 255 ], [ 0, 185, 206, 255 ], [ 0, 206, 41, 255 ], [ 143, 206, 0, 255 ], [ 206, 82, 0, 255 ], [ 206, 0, 103, 255 ], [ 124, 0, 206, 255 ], [ 0, 0, 162, 255 ], [ 0, 145, 162, 255 ], [ 0, 162, 32, 255 ], [ 114, 162, 0, 255 ], [ 162, 65, 0, 255 ], [ 162, 0, 81, 255 ], [ 97, 0, 162, 255 ], [ 0, 0, 119, 255 ], [ 0, 107, 119, 255 ], [ 0, 119, 23, 255 ], [ 83, 119, 0, 255 ], [ 119, 47, 0, 255 ], [ 119, 0, 59, 255 ], [ 71, 0, 119, 255 ], [ 100, 100, 249, 255 ], [ 100, 234, 249, 255 ], [ 100, 249, 129, 255 ], [ 204, 249, 100, 255 ], [ 249, 159, 100, 255 ], [ 249, 100, 174, 255 ], [ 189, 100, 249, 255 ], [ 82, 82, 206, 255 ], [ 82, 193, 206, 255 ], [ 82, 206, 107, 255 ], [ 168, 206, 82, 255 ], [ 206, 131, 82, 255 ], [ 206, 82, 143, 255 ], [ 156, 82, 206, 255 ], [ 65, 65, 162, 255 ], [ 65, 152, 162, 255 ], [ 65, 162, 84, 255 ], [ 132, 162, 65, 255 ], [ 162, 104, 65, 255 ], [ 162, 65, 114, 255 ], [ 123, 65, 162, 255 ], [ 47, 47, 119, 255 ], [ 47, 112, 119, 255 ], [ 47, 119, 61, 255 ], [ 97, 119, 47, 255 ], [ 119, 76, 47, 255 ], [ 119, 47, 83, 255 ], [ 90, 47, 119, 255 ], [ 174, 174, 249, 255 ], [ 174, 242, 249, 255 ], [ 174, 249, 189, 255 ], [ 227, 249, 174, 255 ], [ 249, 204, 174, 255 ], [ 249, 174, 212, 255 ], [ 219, 174, 249, 255 ], [ 143, 143, 206, 255 ], [ 143, 199, 206, 255 ], [ 143, 206, 156, 255 ], [ 187, 206, 143, 255 ], [ 206, 168, 143, 255 ], [ 206, 143, 175, 255 ], [ 181, 143, 206, 255 ], [ 114, 114, 162, 255 ], [ 114, 157, 162, 255 ], [ 114, 162, 123, 255 ], [ 147, 162, 114, 255 ], [ 162, 132, 114, 255 ], [ 162, 114, 137, 255 ], [ 142, 114, 162, 255 ], [ 83, 83, 119, 255 ], [ 83, 115, 119, 255 ], [ 83, 119, 90, 255 ], [ 108, 119, 83, 255 ], [ 119, 97, 83, 255 ], [ 119, 83, 101, 255 ], [ 104, 83, 119, 255 ], [ 224, 224, 249, 255 ], [ 224, 247, 249, 255 ], [ 224, 249, 229, 255 ], [ 242, 249, 224, 255 ], [ 249, 234, 224, 255 ], [ 249, 224, 237, 255 ], [ 239, 224, 249, 255 ], [ 185, 185, 206, 255 ], [ 185, 204, 206, 255 ], [ 185, 206, 189, 255 ], [ 199, 206, 185, 255 ], [ 206, 193, 185, 255 ], [ 206, 185, 195, 255 ], [ 197, 185, 206, 255 ], [ 145, 145, 162, 255 ], [ 145, 160, 162, 255 ], [ 145, 162, 149, 255 ], [ 157, 162, 145, 255 ], [ 162, 152, 145, 255 ], [ 162, 145, 153, 255 ], [ 155, 145, 162, 255 ], [ 107, 107, 119, 255 ], [ 107, 118, 119, 255 ], [ 107, 119, 109, 255 ], [ 115, 119, 107, 255 ], [ 119, 112, 107, 255 ], [ 119, 107, 113, 255 ], [ 114, 107, 119, 255 ], [ 0, 0, 249, 255 ], [ 0, 224, 249, 255 ], [ 0, 249, 50, 255 ], [ 174, 249, 0, 255 ], [ 249, 100, 0, 255 ], [ 249, 0, 125, 255 ], [ 149, 0, 249, 255 ], [ 0, 0, 206, 255 ], [ 0, 185, 206, 255 ], [ 0, 206, 41, 255 ], [ 143, 206, 0, 255 ], [ 206, 82, 0, 255 ], [ 206, 0, 103, 255 ], [ 124, 0, 206, 255 ], [ 0, 0, 162, 255 ], [ 0, 145, 162, 255 ], [ 0, 162, 32, 255 ], [ 114, 162, 0, 255 ], [ 162, 65, 0, 255 ], [ 162, 0, 81, 255 ], [ 97, 0, 162, 255 ], [ 0, 0, 119, 255 ], [ 0, 107, 119, 255 ], [ 0, 119, 23, 255 ], [ 83, 119, 0, 255 ], [ 119, 47, 0, 255 ], [ 119, 0, 59, 255 ], [ 71, 0, 119, 255 ], [ 100, 100, 249, 255 ], [ 100, 234, 249, 255 ], [ 100, 249, 129, 255 ], [ 204, 249, 100, 255 ], [ 249, 159, 100, 255 ], [ 249, 100, 174, 255 ], [ 189, 100, 249, 255 ], [ 82, 82, 206, 255 ], [ 82, 193, 206, 255 ], [ 82, 206, 107, 255 ], [ 168, 206, 82, 255 ], [ 206, 131, 82, 255 ], [ 206, 82, 143, 255 ], [ 156, 82, 206, 255 ], [ 65, 65, 162, 255 ], [ 65, 152, 162, 255 ], [ 65, 162, 84, 255 ], [ 132, 162, 65, 255 ], [ 162, 104, 65, 255 ], [ 162, 65, 114, 255 ], [ 123, 65, 162, 255 ], [ 47, 47, 119, 255 ], [ 47, 112, 119, 255 ], [ 47, 119, 61, 255 ], [ 97, 119, 47, 255 ], [ 119, 76, 47, 255 ], [ 119, 47, 83, 255 ], [ 90, 47, 119, 255 ], [ 174, 174, 249, 255 ], [ 174, 242, 249, 255 ], [ 174, 249, 189, 255 ], [ 227, 249, 174, 255 ], [ 249, 204, 174, 255 ], [ 249, 174, 212, 255 ], [ 219, 174, 249, 255 ], [ 143, 143, 206, 255 ], [ 143, 199, 206, 255 ], [ 143, 206, 156, 255 ], [ 187, 206, 143, 255 ], [ 206, 168, 143, 255 ], [ 206, 143, 175, 255 ], [ 181, 143, 206, 255 ], [ 114, 114, 162, 255 ], [ 114, 157, 162, 255 ], [ 114, 162, 123, 255 ], [ 147, 162, 114, 255 ], [ 162, 132, 114, 255 ], [ 162, 114, 137, 255 ], [ 142, 114, 162, 255 ], [ 83, 83, 119, 255 ], [ 83, 115, 119, 255 ], [ 83, 119, 90, 255 ], [ 108, 119, 83, 255 ], [ 119, 97, 83, 255 ], [ 119, 83, 101, 255 ], [ 104, 83, 119, 255 ], [ 224, 224, 249, 255 ], [ 224, 247, 249, 255 ], [ 224, 249, 229, 255 ], [ 242, 249, 224, 255 ], [ 249, 234, 224, 255 ], [ 249, 224, 237, 255 ], [ 239, 224, 249, 255 ], [ 185, 185, 206, 255 ], [ 185, 204, 206, 255 ], [ 185, 206, 189, 255 ], [ 199, 206, 185, 255 ], [ 206, 193, 185, 255 ], [ 206, 185, 195, 255 ], [ 197, 185, 206, 255 ], [ 145, 145, 162, 255 ], [ 145, 160, 162, 255 ], [ 145, 162, 149, 255 ], [ 157, 162, 145, 255 ], [ 162, 152, 145, 255 ], [ 162, 145, 153, 255 ], [ 155, 145, 162, 255 ], [ 107, 107, 119, 255 ], [ 107, 118, 119, 255 ], [ 107, 119, 109, 255 ], [ 115, 119, 107, 255 ], [ 119, 112, 107, 255 ], [ 119, 107, 113, 255 ], [ 114, 107, 119, 255 ], [ 0, 0, 249, 255 ], [ 0, 224, 249, 255 ], [ 0, 249, 50, 255 ], [ 174, 249, 0, 255 ], [ 249, 100, 0, 255 ], [ 249, 0, 125, 255 ], [ 149, 0, 249, 255 ], [ 0, 0, 206, 255 ], [ 0, 185, 206, 255 ], [ 0, 206, 41, 255 ], [ 143, 206, 0, 255 ], [ 206, 82, 0, 255 ], [ 206, 0, 103, 255 ], [ 124, 0, 206, 255 ], [ 0, 0, 162, 255 ], [ 0, 145, 162, 255 ], [ 0, 162, 32, 255 ], [ 114, 162, 0, 255 ], [ 162, 65, 0, 255 ], [ 162, 0, 81, 255 ], [ 97, 0, 162, 255 ], [ 0, 0, 119, 255 ], [ 0, 107, 119, 255 ], [ 0, 119, 23, 255 ], [ 83, 119, 0, 255 ], [ 119, 47, 0, 255 ], [ 119, 0, 59, 255 ], [ 71, 0, 119, 255 ], [ 100, 100, 249, 255 ], [ 100, 234, 249, 255 ], [ 100, 249, 129, 255 ], [ 0, 249, 50, 255 ] ]\n",
    "colormap = [ [ 0, 0, 0, 0 ], [ 0, 229, 248, 255 ], [ 0, 249, 50, 255 ], #bg, t, ---\n",
    "            [ 175, 255, 42, 255 ], [ 255, 110, 58, 255 ], [ 239, 0, 150, 255 ], # s, i, hp\n",
    "            [ 132,0,205, 255 ], [ 0, 48, 111, 255 ], [ 126, 0, 24, 255 ], # f, n, e\n",
    "            [ 0,149,3, 255 ], [134, 255, 222, 255 ], [ 216, 216, 216, 255 ], #he muc, ca\n",
    "            [ 0, 115, 92, 255 ], [ 80, 80, 80, 255 ], #ma, o\n",
    "            \n",
    "            [ 0, 0, 162, 255 ], [ 0, 145, 162, 255 ], [ 0, 162, 32, 255 ], [ 114, 162, 0, 255 ], [ 162, 65, 0, 255 ], [ 162, 0, 81, 255 ], [ 97, 0, 162, 255 ], [ 0, 0, 119, 255 ], [ 0, 107, 119, 255 ], [ 0, 119, 23, 255 ], [ 83, 119, 0, 255 ], [ 119, 47, 0, 255 ], [ 119, 0, 59, 255 ], [ 71, 0, 119, 255 ], [ 100, 100, 249, 255 ], [ 100, 234, 249, 255 ], [ 100, 249, 129, 255 ], [ 204, 249, 100, 255 ], [ 249, 159, 100, 255 ], [ 249, 100, 174, 255 ], [ 189, 100, 249, 255 ], [ 82, 82, 206, 255 ], [ 82, 193, 206, 255 ], [ 82, 206, 107, 255 ], [ 168, 206, 82, 255 ], [ 206, 131, 82, 255 ], [ 206, 82, 143, 255 ], [ 156, 82, 206, 255 ], [ 65, 65, 162, 255 ], [ 65, 152, 162, 255 ], [ 65, 162, 84, 255 ], [ 132, 162, 65, 255 ], [ 162, 104, 65, 255 ], [ 162, 65, 114, 255 ], [ 123, 65, 162, 255 ], [ 47, 47, 119, 255 ], [ 47, 112, 119, 255 ], [ 47, 119, 61, 255 ], [ 97, 119, 47, 255 ], [ 119, 76, 47, 255 ], [ 119, 47, 83, 255 ], [ 90, 47, 119, 255 ], [ 174, 174, 249, 255 ], [ 174, 242, 249, 255 ], [ 174, 249, 189, 255 ], [ 227, 249, 174, 255 ], [ 249, 204, 174, 255 ], [ 249, 174, 212, 255 ], [ 219, 174, 249, 255 ], [ 143, 143, 206, 255 ], [ 143, 199, 206, 255 ], [ 143, 206, 156, 255 ], [ 187, 206, 143, 255 ], [ 206, 168, 143, 255 ], [ 206, 143, 175, 255 ], [ 181, 143, 206, 255 ], [ 114, 114, 162, 255 ], [ 114, 157, 162, 255 ], [ 114, 162, 123, 255 ], [ 147, 162, 114, 255 ], [ 162, 132, 114, 255 ], [ 162, 114, 137, 255 ], [ 142, 114, 162, 255 ], [ 83, 83, 119, 255 ], [ 83, 115, 119, 255 ], [ 83, 119, 90, 255 ], [ 108, 119, 83, 255 ], [ 119, 97, 83, 255 ], [ 119, 83, 101, 255 ], [ 104, 83, 119, 255 ], [ 224, 224, 249, 255 ], [ 224, 247, 249, 255 ], [ 224, 249, 229, 255 ], [ 242, 249, 224, 255 ], [ 249, 234, 224, 255 ], [ 249, 224, 237, 255 ], [ 239, 224, 249, 255 ], [ 185, 185, 206, 255 ], [ 185, 204, 206, 255 ], [ 185, 206, 189, 255 ], [ 199, 206, 185, 255 ], [ 206, 193, 185, 255 ], [ 206, 185, 195, 255 ], [ 197, 185, 206, 255 ], [ 145, 145, 162, 255 ], [ 145, 160, 162, 255 ], [ 145, 162, 149, 255 ], [ 157, 162, 145, 255 ], [ 162, 152, 145, 255 ], [ 162, 145, 153, 255 ], [ 155, 145, 162, 255 ], [ 107, 107, 119, 255 ], [ 107, 118, 119, 255 ], [ 107, 119, 109, 255 ], [ 115, 119, 107, 255 ], [ 119, 112, 107, 255 ], [ 119, 107, 113, 255 ], [ 114, 107, 119, 255 ], [ 0, 0, 249, 255 ], [ 0, 224, 249, 255 ], [ 0, 249, 50, 255 ], [ 174, 249, 0, 255 ], [ 249, 100, 0, 255 ], [ 249, 0, 125, 255 ], [ 149, 0, 249, 255 ], [ 0, 0, 206, 255 ], [ 0, 185, 206, 255 ], [ 0, 206, 41, 255 ], [ 143, 206, 0, 255 ], [ 206, 82, 0, 255 ], [ 206, 0, 103, 255 ], [ 124, 0, 206, 255 ], [ 0, 0, 162, 255 ], [ 0, 145, 162, 255 ], [ 0, 162, 32, 255 ], [ 114, 162, 0, 255 ], [ 162, 65, 0, 255 ], [ 162, 0, 81, 255 ], [ 97, 0, 162, 255 ], [ 0, 0, 119, 255 ], [ 0, 107, 119, 255 ], [ 0, 119, 23, 255 ], [ 83, 119, 0, 255 ], [ 119, 47, 0, 255 ], [ 119, 0, 59, 255 ], [ 71, 0, 119, 255 ], [ 100, 100, 249, 255 ], [ 100, 234, 249, 255 ], [ 100, 249, 129, 255 ], [ 204, 249, 100, 255 ], [ 249, 159, 100, 255 ], [ 249, 100, 174, 255 ], [ 189, 100, 249, 255 ], [ 82, 82, 206, 255 ], [ 82, 193, 206, 255 ], [ 82, 206, 107, 255 ], [ 168, 206, 82, 255 ], [ 206, 131, 82, 255 ], [ 206, 82, 143, 255 ], [ 156, 82, 206, 255 ], [ 65, 65, 162, 255 ], [ 65, 152, 162, 255 ], [ 65, 162, 84, 255 ], [ 132, 162, 65, 255 ], [ 162, 104, 65, 255 ], [ 162, 65, 114, 255 ], [ 123, 65, 162, 255 ], [ 47, 47, 119, 255 ], [ 47, 112, 119, 255 ], [ 47, 119, 61, 255 ], [ 97, 119, 47, 255 ], [ 119, 76, 47, 255 ], [ 119, 47, 83, 255 ], [ 90, 47, 119, 255 ], [ 174, 174, 249, 255 ], [ 174, 242, 249, 255 ], [ 174, 249, 189, 255 ], [ 227, 249, 174, 255 ], [ 249, 204, 174, 255 ], [ 249, 174, 212, 255 ], [ 219, 174, 249, 255 ], [ 143, 143, 206, 255 ], [ 143, 199, 206, 255 ], [ 143, 206, 156, 255 ], [ 187, 206, 143, 255 ], [ 206, 168, 143, 255 ], [ 206, 143, 175, 255 ], [ 181, 143, 206, 255 ], [ 114, 114, 162, 255 ], [ 114, 157, 162, 255 ], [ 114, 162, 123, 255 ], [ 147, 162, 114, 255 ], [ 162, 132, 114, 255 ], [ 162, 114, 137, 255 ], [ 142, 114, 162, 255 ], [ 83, 83, 119, 255 ], [ 83, 115, 119, 255 ], [ 83, 119, 90, 255 ], [ 108, 119, 83, 255 ], [ 119, 97, 83, 255 ], [ 119, 83, 101, 255 ], [ 104, 83, 119, 255 ], [ 224, 224, 249, 255 ], [ 224, 247, 249, 255 ], [ 224, 249, 229, 255 ], [ 242, 249, 224, 255 ], [ 249, 234, 224, 255 ], [ 249, 224, 237, 255 ], [ 239, 224, 249, 255 ], [ 185, 185, 206, 255 ], [ 185, 204, 206, 255 ], [ 185, 206, 189, 255 ], [ 199, 206, 185, 255 ], [ 206, 193, 185, 255 ], [ 206, 185, 195, 255 ], [ 197, 185, 206, 255 ], [ 145, 145, 162, 255 ], [ 145, 160, 162, 255 ], [ 145, 162, 149, 255 ], [ 157, 162, 145, 255 ], [ 162, 152, 145, 255 ], [ 162, 145, 153, 255 ], [ 155, 145, 162, 255 ], [ 107, 107, 119, 255 ], [ 107, 118, 119, 255 ], [ 107, 119, 109, 255 ], [ 115, 119, 107, 255 ], [ 119, 112, 107, 255 ], [ 119, 107, 113, 255 ], [ 114, 107, 119, 255 ], [ 0, 0, 249, 255 ], [ 0, 224, 249, 255 ], [ 0, 249, 50, 255 ], [ 174, 249, 0, 255 ], [ 249, 100, 0, 255 ], [ 249, 0, 125, 255 ], [ 149, 0, 249, 255 ], [ 0, 0, 206, 255 ], [ 0, 185, 206, 255 ], [ 0, 206, 41, 255 ], [ 143, 206, 0, 255 ], [ 206, 82, 0, 255 ], [ 206, 0, 103, 255 ], [ 124, 0, 206, 255 ], [ 0, 0, 162, 255 ], [ 0, 145, 162, 255 ], [ 0, 162, 32, 255 ], [ 114, 162, 0, 255 ], [ 162, 65, 0, 255 ], [ 162, 0, 81, 255 ], [ 97, 0, 162, 255 ], [ 0, 0, 119, 255 ], [ 0, 107, 119, 255 ], [ 0, 119, 23, 255 ], [ 83, 119, 0, 255 ], [ 119, 47, 0, 255 ], [ 119, 0, 59, 255 ], [ 71, 0, 119, 255 ], [ 100, 100, 249, 255 ], [ 100, 234, 249, 255 ], [ 100, 249, 129, 255 ], [ 0, 249, 50, 255 ] ]\n",
    "\n",
    "colormap = np.array(colormap)/255.\n",
    "cmap = LinearSegmentedColormap.from_list('my_cmap', colors=colormap)\n",
    "\n",
    "label_names = ['Background', \n",
    "               'Tumor',\n",
    "               'Healthy stroma',\n",
    "               'Tumor-associated stroma', \n",
    "               'Inflammation',\n",
    "               'Healthy parenchyma', \n",
    "               'Fatty tissue', \n",
    "               'Necrotic tissue', \n",
    "               'Erytrocytes', \n",
    "               'Healthy epithelium',\n",
    "               'Mucus', \n",
    "               'Cartilage',\n",
    "               'Macrophages',\n",
    "               'Other']\n",
    "\n",
    "label_names_stroma_merge = ['Background', \n",
    "               'Tumor',\n",
    "               'Stroma', \n",
    "               'Inflammation',\n",
    "               'Healthy parenchyma', \n",
    "               'Fatty tissue', \n",
    "               'Necrotic tissue', \n",
    "               'Erytrocytes', \n",
    "               'Healthy epithelium',\n",
    "               'Mucus', \n",
    "               'Cartilage',\n",
    "               'Macrophages',\n",
    "               'Other']\n",
    "label_index = list(range(len(label_names)))\n",
    "label_index_stroma_merge = list(range(len(label_names)))\n",
    "del label_index_stroma_merge[2]\n",
    "label_plot_args = {\"cmap\":cmap, \"vmin\":0, \"vmax\":255, \"interpolation\":\"none\"}\n",
    "\n",
    "%matplotlib inline\n",
    "\n",
    "fig, axs = plt.subplots(1, 2, figsize=(5, 5))\n",
    "axs[-1].imshow([[i] for i in list(range(14))], \n",
    "                vmin=0, vmax=255, cmap=cmap, interpolation='nearest')\n",
    "axs[-1].set_yticks(label_index)\n",
    "axs[-1].set_yticklabels(label_names)\n",
    "axs[-1].yaxis.tick_right()\n",
    "axs[-1].get_xaxis().set_visible(False)\n",
    "axs[-1].set_title(\"Labels\")\n",
    "plt.show()\n",
    "\n",
    "fig, axs = plt.subplots(1, 2, figsize=(5, 5))\n",
    "axs[-1].imshow([[i] for i in label_index_stroma_merge], \n",
    "                vmin=0, vmax=255, cmap=cmap, interpolation='nearest')\n",
    "axs[-1].set_yticks(range(len(label_index_stroma_merge)))\n",
    "axs[-1].set_yticklabels(label_names_stroma_merge)\n",
    "axs[-1].yaxis.tick_right()\n",
    "axs[-1].get_xaxis().set_visible(False)\n",
    "axs[-1].set_title(\"Labels\")\n",
    "plt.show()\n",
    "\n",
    "n_labels = len(label_index_stroma_merge)"
   ]
  },
  {
   "cell_type": "code",
   "execution_count": null,
   "id": "4e6b6e8d-9089-4125-a027-513e80bba728",
   "metadata": {},
   "outputs": [],
   "source": [
    "from wholeslidedata import WholeSlideImage, WholeSlideAnnotation\n",
    "from wholeslidedata.samplers.patchlabelsampler import SegmentationPatchLabelSampler\n",
    "from wholeslidedata.interoperability.asap.parser import AsapAnnotationParser\n",
    "from shapely.geometry import Point"
   ]
  },
  {
   "cell_type": "code",
   "execution_count": null,
   "id": "6e0633ca-82ad-405f-8d0f-25e2e1d6080b",
   "metadata": {},
   "outputs": [],
   "source": [
    "wsi_path = Path(convert_path(r\"Z:\\projects\\pathology-lung-TIL\\data\\self_supervision\\Task020_batch1_3_to_train_BN_bs8_ps512_stroma_merge\\nnUNetTrainerV2_BN_pathology_DA_hed005__nnUNet_RGB_scaleTo_0_1_bs8_ps512\\LI_S01_P000060_C0001_L01_A15.tif\"))\n",
    "wsa_path = Path(convert_path(r\"Z:\\projects\\pathology-lung-TIL\\data\\self_supervision\\Task020_WSI_on_train_batch_1_3_XML\\LI_S01_P000060_C0001_L01_A15_nnunet.xml\"))"
   ]
  },
  {
   "cell_type": "code",
   "execution_count": null,
   "id": "1336219c-8ce4-4183-bae2-8319708df02c",
   "metadata": {},
   "outputs": [],
   "source": [
    "labels={'rois': 0,\n",
    "        'Background':0,\n",
    "        'Tumor': 1, \n",
    "        'Stroma': 3,\n",
    "        'Healthy stroma': 3,########################################################## MERGED STROMA \n",
    "        'Tumor-associated stroma': 3, \n",
    "        'Inflammation': 4, \n",
    "        'Healthy parenchyma': 5, \n",
    "        'Fatty tissue': 6, \n",
    "        'Necrotic tissue': 7, \n",
    "        'Necrosis' : 7,\n",
    "        'Erytrocytes': 8, \n",
    "        'Healthy epithelium': 9, \n",
    "        'Healty epithelium': 9,  #typo in annotated data\n",
    "        'Mucus': 10, \n",
    "        'Cartilage': 11,\n",
    "        'Macrophages': 12,\n",
    "        'Other': 13,\n",
    "#         'Anthracosis': 13\n",
    "       }"
   ]
  },
  {
   "cell_type": "code",
   "execution_count": null,
   "id": "83b691c2-20f9-4391-b8d4-54e9a7e9a579",
   "metadata": {},
   "outputs": [],
   "source": [
    "label_sampler = SegmentationPatchLabelSampler()\n",
    "parser = AsapAnnotationParser(labels=labels)"
   ]
  },
  {
   "cell_type": "code",
   "execution_count": null,
   "id": "ddcf4c6f-ce04-4686-8281-b293b6378479",
   "metadata": {},
   "outputs": [],
   "source": [
    "wsi = WholeSlideImage(wsi_path)\n",
    "wsa = WholeSlideAnnotation(wsa_path, parser=parser)"
   ]
  },
  {
   "cell_type": "code",
   "execution_count": null,
   "id": "fa4c20c6-a712-44d8-b3a5-af2917a4c893",
   "metadata": {},
   "outputs": [],
   "source": [
    "x = 245000 #257800 #245000\n",
    "y = 157000 #150000 #157000\n",
    "\n",
    "size = 1024\n",
    "spacing = 2\n",
    "wsi_spacing = 0.25\n",
    "ratio = spacing / wsi_spacing\n",
    "\n",
    "num_plots_with_labels = 4\n",
    "figsize = (15, 15)\n",
    "ax_ratio = (14, 1)"
   ]
  },
  {
   "cell_type": "code",
   "execution_count": null,
   "id": "060ce0ec-933b-495f-b830-175c95237507",
   "metadata": {},
   "outputs": [],
   "source": [
    "roi_patch = wsi.get_patch(x=x, y=y, width=size, height=size, spacing=spacing)\n",
    "mask_patch = label_sampler.sample(wsa, (x, y), (size, size), ratio=ratio)"
   ]
  },
  {
   "cell_type": "code",
   "execution_count": null,
   "id": "8fac2f57-38f3-4052-8dc1-271117f01ab9",
   "metadata": {},
   "outputs": [],
   "source": [
    "fig, axs = plt.subplots(1, num_plots_with_labels, figsize=figsize, gridspec_kw={'width_ratios': (num_plots_with_labels-1)*[ax_ratio[0]]+ [ax_ratio[-1]]})\n",
    "axs[0].imshow(roi_patch)\n",
    "axs[1].imshow(mask_patch, **label_plot_args)\n",
    "axs[2].imshow(roi_patch, **label_plot_args)\n",
    "axs[2].imshow(mask_patch, alpha=0.5, **label_plot_args)\n",
    "axs[-1].imshow([[i] for i in label_index_stroma_merge], \n",
    "                vmin=0, vmax=255, cmap=cmap, interpolation='nearest')\n",
    "axs[-1].set_yticks(range(len(label_index_stroma_merge)))\n",
    "axs[-1].set_yticklabels(label_names_stroma_merge)\n",
    "axs[-1].yaxis.tick_right()\n",
    "axs[-1].get_xaxis().set_visible(False)\n",
    "axs[-1].set_title(\"Labels\")\n",
    "plt.show()"
   ]
  },
  {
   "cell_type": "markdown",
   "id": "6f0dad53-7f42-448b-aa78-a29d0c53be95",
   "metadata": {},
   "source": [
    "# Visualise"
   ]
  },
  {
   "cell_type": "code",
   "execution_count": null,
   "id": "87d2a9c0-45f3-4e65-8517-30d4889d1de8",
   "metadata": {},
   "outputs": [],
   "source": [
    "from shapely.geometry import Polygon\n",
    "\n",
    "# Define the polygons for scenario 1 and scenario 2\n",
    "outer_polygon1 = Polygon([(0, 0), (0, 4), (4, 4), (4, 0)])\n",
    "inner_polygon1 = Polygon([(2, 2), (2, 2.5), (2.5, 2.5), (2.5, 2)])\n",
    "in_between_polygon1 = Polygon([(1, 1), (1, 3), (3, 3), (3, 1)])\n",
    "\n",
    "outer_polygon2 = Polygon([(0, 0), (0, 4), (4, 4), (4, 0)])\n",
    "inner_polygon2 = Polygon([(2, 2), (2, 2.5), (2.5, 2.5), (2.5, 2)])\n",
    "in_between_polygon2 = Polygon([(1, 1), (1, 3), (3, 3), (3, 1)])"
   ]
  },
  {
   "cell_type": "code",
   "execution_count": null,
   "id": "9b41ab2a-02d0-4323-b561-0a76853816c8",
   "metadata": {},
   "outputs": [],
   "source": [
    "outer_polygon1\n"
   ]
  },
  {
   "cell_type": "code",
   "execution_count": null,
   "id": "5adbf236-db44-45ea-af3d-95503d8af267",
   "metadata": {},
   "outputs": [],
   "source": [
    "from matplotlib.patches import Polygon as mpl_polygon\n",
    "\n",
    "# Create a 2D array for plotting\n",
    "x = np.linspace(-1, 5, 100)\n",
    "y = np.linspace(-1, 5, 100)\n",
    "X, Y = np.meshgrid(x, y)\n",
    "\n",
    "# Create a subplot with 1 row and 2 columns\n",
    "fig, axs = plt.subplots(1, 2, figsize=(12, 6))\n",
    "\n",
    "# Plot scenario 1 polygons\n",
    "axs[0].contourf(X, Y, np.zeros_like(X), levels=[-1, 0], colors='white')\n",
    "axs[0].add_patch(mpl_polygon(outer_polygon1.exterior, closed=True, fill=False, color='blue'))\n",
    "axs[0].add_patch(mpl_polygon(inner_polygon1.exterior, closed=True, fill=False, color='red'))\n",
    "axs[0].add_patch(mpl_polygon(in_between_polygon1.exterior, closed=True, fill=False, color='blue'))\n",
    "axs[0].set_xlim(-1, 5)\n",
    "axs[0].set_ylim(-1, 5)\n",
    "axs[0].set_aspect('equal')\n",
    "axs[0].set_title(\"Scenario 1\")\n",
    "\n",
    "# Plot scenario 2 polygons\n",
    "axs[1].contourf(X, Y, np.zeros_like(X), levels=[-1, 0], colors='white')\n",
    "axs[1].add_patch(mpl_polygon(outer_polygon2.exterior, closed=True, fill=False, color='blue'))\n",
    "axs[1].add_patch(mpl_polygon(inner_polygon2.exterior, closed=True, fill=False, color='blue'))\n",
    "axs[1].add_patch(mpl_polygon(in_between_polygon2.exterior, closed=True, fill=False, color='red'))\n",
    "axs[1].set_xlim(-1, 5)\n",
    "axs[1].set_ylim(-1, 5)\n",
    "axs[1].set_aspect('equal')\n",
    "axs[1].set_title(\"Scenario 2\")\n",
    "\n",
    "plt.show()"
   ]
  },
  {
   "cell_type": "code",
   "execution_count": null,
   "id": "75e8c23b-a4e5-4f38-a567-6a05c958296c",
   "metadata": {},
   "outputs": [],
   "source": []
  }
 ],
 "metadata": {
  "kernelspec": {
   "display_name": "Python 3 (ipykernel)",
   "language": "python",
   "name": "python3"
  },
  "language_info": {
   "codemirror_mode": {
    "name": "ipython",
    "version": 3
   },
   "file_extension": ".py",
   "mimetype": "text/x-python",
   "name": "python",
   "nbconvert_exporter": "python",
   "pygments_lexer": "ipython3",
   "version": "3.9.13"
  }
 },
 "nbformat": 4,
 "nbformat_minor": 5
}
